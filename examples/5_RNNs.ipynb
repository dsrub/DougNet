{
 "cells": [
  {
   "cell_type": "code",
   "execution_count": 27,
   "metadata": {},
   "outputs": [],
   "source": [
    "import math\n",
    "import string\n",
    "import sys\n",
    "import random\n",
    "from collections import defaultdict, Counter\n",
    "sys.path.append(\"../\")\n",
    "\n",
    "import torch\n",
    "import torch.nn as nn\n",
    "import torch.nn.functional as F\n",
    "\n",
    "import dougnet as dn\n",
    "from dougnet.training import DataLoader\n",
    "from dougnet.data import LoadBB\n",
    "\n",
    "import numpy as np\n",
    "import matplotlib.pyplot as plt\n",
    "from tqdm import tqdm"
   ]
  },
  {
   "cell_type": "markdown",
   "metadata": {},
   "source": [
    "# Define training/plotting utility functions"
   ]
  },
  {
   "cell_type": "code",
   "execution_count": 28,
   "metadata": {},
   "outputs": [],
   "source": [
    "def train_dougnet(model, dl_class, forward_func, init_weights_func, batch_size, record_weights=False):\n",
    "    \"\"\"\n",
    "    Main function for training the dougnet RNNs in this notebook.  This function requires a data loader \n",
    "    class, a function for computing the forward pass of the RNN and a function for initializing the weights \n",
    "    of the RNN model.  Training and validation data also need to be defined as the global variables: \n",
    "    X_TRAIN, Y_TRAIN, X_VALID and Y_VALID.\n",
    "    \"\"\"\n",
    "    # initialize weights/biases and copy initialized weights/biases for training pytorch\n",
    "    graph = dn.ComputationGraph()\n",
    "    weights, biases = init_weights_func(model)\n",
    "    graph.initialize_params(SEED_WEIGHTS)\n",
    "    print(f\"number of model parameters: {len(graph)}\")\n",
    "    initial_weights = {k:(v.output.copy() if type(v) != list else [vv.output.copy() for vv in v]) \n",
    "                       for k, v in weights.items()}\n",
    "\n",
    "    # train\n",
    "    optim = dn.optim.Adam(graph, eta=LEARNING_RATE)\n",
    "    dataloader = dl_class(X_TRAIN, Y_TRAIN, batch_size, SEED_DATALOADER)\n",
    "    progress = defaultdict(list)\n",
    "    with tqdm(range(NUM_ITERS), desc=\"iter\", unit=\"iter\", bar_format='{l_bar}{bar:15}{r_bar}{bar:-10b}') as trange:\n",
    "        for it in trange:\n",
    "            for inputs, targets in dataloader.load():\n",
    "                _, _, _ = forward_func(model, graph, optim, inputs, targets, weights, biases)\n",
    "\n",
    "            # record progress\n",
    "            if it % EVAL_CADENCE == 0:  \n",
    "                loss_train, acc_train, _ = forward_func(model, graph, optim, X_TRAIN, Y_TRAIN, \n",
    "                                                        weights, biases, train=False)\n",
    "                loss_valid, acc_valid, cm = forward_func(model, graph, optim, X_VALID, Y_VALID, \n",
    "                                                         weights, biases, train=False)\n",
    "                progress['loss_train'].append(loss_train) \n",
    "                progress['loss_valid'].append(loss_valid)  \n",
    "                progress['acc_train'].append(acc_train)  \n",
    "                progress['acc_valid'].append(acc_valid)\n",
    "                progress['confusion_matrices'].append(cm)\n",
    "                if record_weights:\n",
    "                    progress['weights'].append({k:v.output.copy() for k, v in weights.items()})\n",
    "                    progress['biases'].append({k:v.output.copy() for k, v in biases.items()})\n",
    "\n",
    "                trange.set_postfix(loss=f\"{round(loss_train, 2)}/{round(loss_valid, 2)}\", \n",
    "                                   accuracy=f\"{round(100 * acc_train, 2)}/{round(100 * acc_valid, 2)}\")\n",
    "    return progress, initial_weights"
   ]
  },
  {
   "cell_type": "code",
   "execution_count": 29,
   "metadata": {
    "editable": true,
    "slideshow": {
     "slide_type": ""
    },
    "tags": []
   },
   "outputs": [],
   "source": [
    "def train_torch(model, dl_class, forward_func, init_weights_func, batch_size, weights):    \n",
    "    \"\"\"Main function for training the torch RNNs in this notebook.\"\"\"\n",
    "    # initialize torch weights to same initial weights used to train dn model\n",
    "    init_weights_func(model, weights)\n",
    "    \n",
    "    # train\n",
    "    optim = torch.optim.Adam(model.parameters(), lr=LEARNING_RATE)\n",
    "    dataloader = dl_class(X_TRAIN, Y_TRAIN, batch_size, SEED_DATALOADER)\n",
    "    progress = defaultdict(list)\n",
    "    with tqdm(range(NUM_ITERS), desc=\"iter\", unit=\"iter\", bar_format='{l_bar}{bar:15}{r_bar}{bar:-10b}') as trange:\n",
    "        for it in trange:\n",
    "            for inputs, targets in dataloader.load():\n",
    "                loss, _ = forward_func(model, optim, inputs, targets)\n",
    "           \n",
    "            # record progress\n",
    "            if it % EVAL_CADENCE == 0:  \n",
    "                with torch.no_grad():\n",
    "                    loss_train, acc_train = forward_func(model, optim, X_TRAIN, Y_TRAIN, train=False)\n",
    "                    loss_valid, acc_valid = forward_func(model, optim, X_VALID, Y_VALID, train=False)\n",
    "                    progress['loss_train'].append(loss_train) \n",
    "                    progress['loss_valid'].append(loss_valid)  \n",
    "                    progress['acc_train'].append(acc_train)  \n",
    "                    progress['acc_valid'].append(acc_valid) \n",
    "                    \n",
    "                    trange.set_postfix(loss=f\"{round(loss_train, 2)}/{round(loss_valid, 2)}\", \n",
    "                                       accuracy=f\"{round(100 * acc_train, 2)}/{round(100 * acc_valid, 2)}\")\n",
    "    return progress"
   ]
  },
  {
   "cell_type": "code",
   "execution_count": 30,
   "metadata": {},
   "outputs": [],
   "source": [
    "def ohe(ints, cardinality):\n",
    "    \"\"\"one-hot encode arrays on integers\"\"\"\n",
    "    batch_size = ints.shape[0]\n",
    "    X_ohe = np.zeros((batch_size, cardinality), dtype=np.float32)\n",
    "    X_ohe[range(batch_size), ints] = 1.\n",
    "    return X_ohe.T"
   ]
  },
  {
   "cell_type": "code",
   "execution_count": 31,
   "metadata": {
    "editable": true,
    "slideshow": {
     "slide_type": ""
    },
    "tags": []
   },
   "outputs": [],
   "source": [
    "def plot_results(progress_dict_dn, progress_dict_torch, eval_cadence, title):\n",
    "    \n",
    "    fig, axs = plt.subplots(2, 2, figsize=(12, 6))\n",
    "    fig.suptitle(f'{title}', fontsize=16)\n",
    "    \n",
    "    axs[0][0].plot(np.arange(1, len(progress_dict_dn[\"loss_train\"]) + 1) * eval_cadence, progress_dict_dn[\"loss_train\"])\n",
    "    axs[0][0].plot(np.arange(1, len(progress_dict_dn[\"loss_valid\"]) + 1) * eval_cadence, progress_dict_dn[\"loss_valid\"])\n",
    "    axs[0][0].set_ylabel(\"loss\")\n",
    "    axs[0][0].set_title(\"dougnet\")\n",
    "\n",
    "    axs[0][1].plot(np.arange(1, len(progress_dict_torch[\"loss_train\"]) + 1) * eval_cadence, progress_dict_torch[\"loss_train\"])\n",
    "    axs[0][1].plot(np.arange(1, len(progress_dict_torch[\"loss_valid\"]) + 1) * eval_cadence, progress_dict_torch[\"loss_valid\"])\n",
    "    axs[0][1].set_title(\"pytorch\")\n",
    "\n",
    "    axs[1][0].plot(np.arange(1, len(progress_dict_dn[\"acc_train\"]) + 1) * eval_cadence, progress_dict_dn[\"acc_train\"])\n",
    "    axs[1][0].plot(np.arange(1, len(progress_dict_dn[\"acc_valid\"]) + 1) * eval_cadence, progress_dict_dn[\"acc_valid\"])\n",
    "    axs[1][0].set_xlabel(\"epoch/iteration\")\n",
    "    axs[1][0].set_ylabel(\"accuracy\")\n",
    "\n",
    "    axs[1][1].plot(np.arange(1, len(progress_dict_torch[\"acc_train\"]) + 1) * eval_cadence, progress_dict_torch[\"acc_train\"])\n",
    "    axs[1][1].plot(np.arange(1, len(progress_dict_torch[\"acc_valid\"]) + 1) * eval_cadence, progress_dict_torch[\"acc_valid\"])\n",
    "    axs[1][1].set_xlabel(\"epoch/iteration\")\n",
    "    \n",
    "    best_index_dn = np.argmin(np.array(progress_dict_dn[\"loss_valid\"]))\n",
    "    best_index_torch = np.argmin(np.array(progress_dict_torch[\"loss_valid\"]))\n",
    "      \n",
    "    print(f\"best dougnet validation accuracy = {round(progress_dict_dn['acc_valid'][best_index_dn], 3)}\")\n",
    "    print(f\"best pytorch validation accuracy = {round(progress_dict_torch['acc_valid'][best_index_torch], 3)}\")"
   ]
  },
  {
   "cell_type": "markdown",
   "metadata": {},
   "source": [
    "# Load Data\n",
    "\n",
    "Let's load the Beavis and Butt-head script and take a look at it."
   ]
  },
  {
   "cell_type": "code",
   "execution_count": 38,
   "metadata": {},
   "outputs": [],
   "source": [
    "BB_TEXT = LoadBB()\n",
    "STOI = string.printable.index\n",
    "ITOS = lambda x: string.printable[x]"
   ]
  },
  {
   "cell_type": "code",
   "execution_count": 39,
   "metadata": {},
   "outputs": [
    {
     "name": "stdout",
     "output_type": "stream",
     "text": [
      "total text length: 110009\n",
      "number unique characters: 79\n"
     ]
    }
   ],
   "source": [
    "char_set = set(list(BB_TEXT))\n",
    "print('total text length:', len(BB_TEXT))\n",
    "print('number unique characters:', len(char_set))"
   ]
  },
  {
   "cell_type": "code",
   "execution_count": 40,
   "metadata": {},
   "outputs": [
    {
     "name": "stdout",
     "output_type": "stream",
     "text": [
      "============================== beginning of script ==============================\n",
      "\n",
      "\t\n",
      "\t\n",
      "\tINT.  B&B'S HOME - DAY\n",
      "\t\n",
      "\t\n",
      "\t\t\t\t\tBEAVIS (O.C.)\n",
      "\t\t\tButt-Head! Butt-Head! Hey, Butt-Head!\n",
      "\t\n",
      "\tButt-Head is dead asleep on the couch. Beavis shakes him.\n",
      "\t\n",
      "\t\t\t\t\tBEAVIS\n",
      "\t\t\tButt-Head, wake up, wake up!\n",
      "\t\n",
      "\tButt-Head comes around.\n",
      "\t\n",
      "\t\t\t\t\tBUTT-HEAD\n",
      "\t\t\tDammit, Beavis, I was about to score.\n",
      "\t\t\tHuh huh.\n",
      "\t\n",
      "\t\n",
      "\n",
      "\n",
      "============================== end of script ==============================\n",
      "dill, um, face...\n",
      "\t\n",
      "\t\t\t\t\tBEAVIS\n",
      "\t\t\tUm... ass... head...\n",
      "\t\n",
      "\t\t\t\t\tBUTT-HEAD\n",
      "\t\t\tUh... butt-snatch...\n",
      "\t\n",
      "\t\t\t\t\tBEAVIS\n",
      "\t\t\tYou already said that, Butt-Head.\n",
      "\t\n",
      "\t\t\t\t\tBUTT-HEAD\n",
      "\t\t\tOh, uh, I mean, uh, ass-goblin...\n",
      "\t\n",
      "\t\t\t\t\tB&B\n",
      "\t\t\tHuh huh huh...\n",
      "\t\n",
      "\tB&B head off into the sunset, trading lame insults as we FADE OUT.\n"
     ]
    }
   ],
   "source": [
    "# let's take a look at the beginning and end of the script\n",
    "\n",
    "print('=' * 30, 'beginning of script', '=' * 30)\n",
    "print(BB_TEXT[:300])\n",
    "print('\\n')\n",
    "print('=' * 30, 'end of script', '=' * 30)\n",
    "print(BB_TEXT[-300:])"
   ]
  },
  {
   "cell_type": "code",
   "execution_count": 41,
   "metadata": {},
   "outputs": [
    {
     "data": {
      "text/plain": [
       "\"\\n\\t\\n\\t\\n\\tINT.  B&B'S HOME - DAY\\n\\t\\n\\t\\n\\t\\t\\t\\t\\tBEAVIS (O.C.)\\n\\t\\t\\tButt-Head! Butt-Head! Hey, Butt-Head!\\n\\t\\n\\tButt-Head is dead asleep on the couch. Beavis shakes him.\\n\\t\\n\\t\\t\\t\\t\\tBEAVIS\\n\\t\\t\\tButt-Head, wake up, wake up!\\n\\t\\n\\tButt-Head comes around.\\n\\t\\n\\t\\t\\t\\t\\tBUTT-HEAD\\n\\t\\t\\tDammit, Beavis, I was about to score.\\n\\t\\t\\tHuh huh.\\n\\t\\n\\t\""
      ]
     },
     "execution_count": 41,
     "metadata": {},
     "output_type": "execute_result"
    }
   ],
   "source": [
    "# take a look at the raw text characters in the B&B script.\n",
    "\n",
    "BB_TEXT[:300]"
   ]
  },
  {
   "cell_type": "markdown",
   "metadata": {},
   "source": [
    "The script contains a good amount of special formatting for indentation using the `\\n` and `\\t` characters.  Hopefully the RNN that I train for text generation will be able to replicate this formatting."
   ]
  },
  {
   "cell_type": "markdown",
   "metadata": {},
   "source": [
    "To train my models, it is more convenient to work with integer data than with strings.  I therefore require a dictionary which contains a pre-defined set of strings and maps them to integers.  For this mapping, I use the set of characters in `string.printable` and define the global variable `STOI` to perform the mapping."
   ]
  },
  {
   "cell_type": "code",
   "execution_count": 45,
   "metadata": {},
   "outputs": [
    {
     "name": "stdout",
     "output_type": "stream",
     "text": [
      "Printed characters in string.printable: \n",
      "0123456789abcdefghijklmnopqrstuvwxyzABCDEFGHIJKLMNOPQRSTUVWXYZ!\"#$%&'()*+,-./:;<=>?@[\\]^_`{|}~ \t\n",
      "\u000b",
      "\f",
      "\n",
      "\n",
      "\n",
      "Raw characters in string.printable: \n"
     ]
    },
    {
     "data": {
      "text/plain": [
       "'0123456789abcdefghijklmnopqrstuvwxyzABCDEFGHIJKLMNOPQRSTUVWXYZ!\"#$%&\\'()*+,-./:;<=>?@[\\\\]^_`{|}~ \\t\\n\\r\\x0b\\x0c'"
      ]
     },
     "execution_count": 45,
     "metadata": {},
     "output_type": "execute_result"
    }
   ],
   "source": [
    "# make sure all chars in the script also in string.printable \n",
    "assert all(char in string.printable for char in char_set)\n",
    "\n",
    "# print characters\n",
    "print(\"Printed characters in string.printable: \")\n",
    "print(string.printable)\n",
    "print(\"\\n\")\n",
    "\n",
    "# check out raw text characters of string.printable \n",
    "print(\"Raw characters in string.printable: \")\n",
    "string.printable"
   ]
  },
  {
   "cell_type": "code",
   "execution_count": 50,
   "metadata": {},
   "outputs": [
    {
     "name": "stdout",
     "output_type": "stream",
     "text": [
      "10\n",
      "a\n"
     ]
    }
   ],
   "source": [
    "# the global functions, STOI and ITOS map use string.printable to map from string to index\n",
    "# and vice-versa\n",
    "\n",
    "print(STOI(\"a\"))\n",
    "print(ITOS(10))"
   ]
  },
  {
   "cell_type": "markdown",
   "metadata": {},
   "source": [
    "# Character level RNN for classification\n",
    "\n",
    "In this section I will build RNN classifiers which take in a line of the script as input and classifies whether the line was spoken by Beavis, Butt-head or another character (a 3-class classifier).  \n",
    "\n",
    "Since each input (character line) can have a different sequence length, I train my models with a mini-batch size of 1. I do this because I have not implemented any padding functionality in dougnet (like the padding functionality implemented in pytorch) which would allow for mini-batches with examples of varying sequence lengths.\n",
    "\n",
    "The model architecture I use is a 2-layer RNN where the last hidden unit in the RNN is fed into an MLP classifer which consists of a single hidden layer with dropout for regularization and a final output layer to compute logits:\n",
    "\n",
    "2-layer RNN --> fc layer --> relu --> dropout --> fc layer with 3 outputs"
   ]
  },
  {
   "cell_type": "code",
   "execution_count": 13,
   "metadata": {},
   "outputs": [],
   "source": [
    "# seeds\n",
    "SEED_PERMUTE_DATA = 1\n",
    "SEED_DATALOADER = 4\n",
    "SEED_WEIGHTS = 9\n",
    "SEED_DROPOUT = 16\n",
    "\n",
    "# data parameters\n",
    "PERCENT_TRAINING_DATA = 0.8\n",
    "TARGET2INT = {\"BEAVIS\": 0, \"BUTT-HEAD\": 1, \"NOT B&B\": 2}\n",
    "\n",
    "# model parameters\n",
    "VOCAB_SIZE = len(string.printable)\n",
    "OUTPUT_DIM = 3\n",
    "INPUT_DIM = 64\n",
    "HIDDEN_DIM = 128\n",
    "FC_DIM = 100\n",
    "NUM_LAYERS = 2\n",
    "\n",
    "# training parameters\n",
    "NUM_ITERS = 40_000\n",
    "LEARNING_RATE = .00001\n",
    "EVAL_CADENCE = 1_000"
   ]
  },
  {
   "cell_type": "markdown",
   "metadata": {},
   "source": [
    "### Process/prep data"
   ]
  },
  {
   "cell_type": "code",
   "execution_count": 14,
   "metadata": {},
   "outputs": [],
   "source": [
    "def process_text_for_classifier():\n",
    "    \"\"\"parse B&B script to obtain a list of tuples giving (character, line spoken)\"\"\"\n",
    "\n",
    "    # parse script text\n",
    "    parsed_text = [s for s in BB_TEXT.split(\"\\n\") if s.startswith(\"\\t\\t\\t\") and not s.startswith(\"\\t\\t\\t\\t\\t(\")]\n",
    "    character = parsed_text[0][5:].replace(' (O.C.)', '')\n",
    "    dialogue = parsed_text[1][3:]\n",
    "\n",
    "    # iterate through parsed text to generate a dictionary where keys are characters in the script\n",
    "    # and values are their lines\n",
    "    script_lines = defaultdict(list)\n",
    "    for line in parsed_text[2:]:\n",
    "        if line.startswith(\"\\t\\t\\t\\t\\t\"):\n",
    "            # new character speaking\n",
    "            script_lines[character].append(dialogue)\n",
    "            dialogue = \"\"\n",
    "            character = line[5:]\n",
    "            for x in [' (O.S.)', ' (O.C.)', ' (V.O.)', ' (CONT.)', ' (O.S./CONT.)']:\n",
    "                character = character.replace(x, '')\n",
    "        else:\n",
    "            if dialogue == \"\":\n",
    "                dialogue += line[3:]\n",
    "            else:\n",
    "                dialogue += \" \"\n",
    "                dialogue += line[3:]\n",
    "            \n",
    "    # Beavis is Cornholio, so include BEAVIS/CORNHOLIO's lines into Beavis'\n",
    "    script_lines[\"BEAVIS\"] = script_lines[\"BEAVIS\"] + script_lines['BEAVIS/CORNHOLIO']\n",
    "    del script_lines['BEAVIS/CORNHOLIO']\n",
    "\n",
    "    # delete characters that are somewhat like Beavis and somewhat like Butt-head to not confuse my classifier\n",
    "    # (I'll) be classifying Beavis/Butt-head/Not B&B\n",
    "    del script_lines['B&B/DUMB GUY/DUMBER GUY']\n",
    "    del script_lines['B&B']\n",
    "    del script_lines['BEAVIS/SPERM']\n",
    "    del script_lines['BEAVIS & BUTT-HEAD']\n",
    "\n",
    "    # merge top-5 non-Beavis/Butt-head characters into a \"NOT B&B\"\n",
    "    # the top-5 results in a roughly balanced dataset (# lines BEAVIS ~= # lines BUTT-HEAD ~=  # lines NOT B&B)\n",
    "    top5_not_bb = [x[0] for x in sorted([(k, len(v)) for k, v in script_lines.items()], key=lambda x: x[1], reverse=True)[2:7]]\n",
    "    script_lines[\"NOT B&B\"] = []\n",
    "    for character in top5_not_bb:\n",
    "        script_lines[\"NOT B&B\"] += script_lines[character]\n",
    "\n",
    "    # only keep BEAVIS, BUTT-HEAD', NOT B&B in data-set\n",
    "    script_lines = {k:v for k, v in script_lines.items() if k in ['BEAVIS', 'BUTT-HEAD', \"NOT B&B\"]}\n",
    "    \n",
    "    # change format of data into a (character, line) list\n",
    "    data = [(character, line) for character in [\"BEAVIS\", \"BUTT-HEAD\", \"NOT B&B\"] for line in script_lines[character]]\n",
    "\n",
    "    return data"
   ]
  },
  {
   "cell_type": "code",
   "execution_count": 15,
   "metadata": {},
   "outputs": [
    {
     "name": "stdout",
     "output_type": "stream",
     "text": [
      "# examples in training set: 411\n",
      "# examples in validation set: 102\n"
     ]
    }
   ],
   "source": [
    "# create training/validation sets\n",
    "\n",
    "data = process_text_for_classifier()\n",
    "\n",
    "random.seed(SEED_PERMUTE_DATA)\n",
    "random.shuffle(data)\n",
    "data_train, data_valid = data[:math.ceil(len(data) * PERCENT_TRAINING_DATA)], data[math.ceil(len(data) * PERCENT_TRAINING_DATA):]\n",
    "\n",
    "print(f\"# examples in training set: {len(data_train)}\")\n",
    "print(f\"# examples in validation set: {len(data_valid)}\")"
   ]
  },
  {
   "cell_type": "code",
   "execution_count": 16,
   "metadata": {},
   "outputs": [
    {
     "data": {
      "text/plain": [
       "[('BEAVIS', 'Yeah, fire! Fire! FIRE!!!'),\n",
       " ('NOT B&B', 'Dammit!!! She did it to me again!!!'),\n",
       " ('NOT B&B', 'Thrr...'),\n",
       " ('BUTT-HEAD', 'Uh, huh huh, did I just score?'),\n",
       " ('NOT B&B', 'Deep and hard.'),\n",
       " ('NOT B&B', \"THE PANTS!!! He's got the unit!\"),\n",
       " ('BEAVIS', 'Are you threatening me?! I am Cornholio!'),\n",
       " ('BEAVIS', \"Hey Butt-Head it's that chick!\"),\n",
       " ('BUTT-HEAD', 'Huh huh. Jack. Huh huh.'),\n",
       " ('BEAVIS',\n",
       "  'That sucks. Heh heh. They need some shows about fire! Change the channel.')]"
      ]
     },
     "execution_count": 16,
     "metadata": {},
     "output_type": "execute_result"
    }
   ],
   "source": [
    "# take a look at some of the data\n",
    "data_train[:10]"
   ]
  },
  {
   "cell_type": "code",
   "execution_count": 17,
   "metadata": {},
   "outputs": [
    {
     "name": "stdout",
     "output_type": "stream",
     "text": [
      "# of BEAVIS lines 177\n",
      "# of BUTT-HEAD lines 166\n",
      "# of NOT B&B lines 170\n"
     ]
    }
   ],
   "source": [
    "# the amount of data per class is reasonably well balanced\n",
    "\n",
    "print(\"# of BEAVIS lines\", sum(1 for x in data if x[0] == \"BEAVIS\"))\n",
    "print(\"# of BUTT-HEAD lines\", sum(1 for x in data if x[0] == \"BUTT-HEAD\"))\n",
    "print(\"# of NOT B&B lines\", sum(1 for x in data if x[0] == \"NOT B&B\"))"
   ]
  },
  {
   "cell_type": "markdown",
   "metadata": {},
   "source": [
    "The final step in pre-processing the data is to convert the targets (BEAVIS, BUTT-HEAD, NOT B&B) to integers and to convert each line into a sequence of of integers."
   ]
  },
  {
   "cell_type": "code",
   "execution_count": 18,
   "metadata": {},
   "outputs": [],
   "source": [
    "# convert data into integers for training\n",
    "\n",
    "Y_TRAIN = [np.array([[TARGET2INT[x[0]]]]) for x in data_train]\n",
    "Y_VALID = [np.array([[TARGET2INT[x[0]]]]) for x in data_valid]\n",
    "\n",
    "X_TRAIN = [np.array([STOI(char) for char in x[1]]).reshape(-1, 1) for x in data_train]\n",
    "X_VALID = [np.array([STOI(char) for char in x[1]]).reshape(-1, 1) for x in data_valid]"
   ]
  },
  {
   "cell_type": "code",
   "execution_count": 20,
   "metadata": {},
   "outputs": [
    {
     "name": "stdout",
     "output_type": "stream",
     "text": [
      "y as text: BEAVIS\n",
      "x as text: Yeah, fire! Fire! FIRE!!!\n",
      "\n",
      "\n",
      "y as ints: [0]\n",
      "x as ints: [60 14 10 17 73 94 15 18 27 14 62 94 41 18 27 14 62 94 41 44 53 40 62 62\n",
      " 62]\n"
     ]
    }
   ],
   "source": [
    "# print out first example in training data to illustrate how the stoi process works\n",
    "\n",
    "print(\"y as text:\", data_train[0][0])\n",
    "print(\"x as text:\", data_train[0][1])\n",
    "print(\"\\n\")\n",
    "print(\"y as ints:\", Y_TRAIN[0].reshape(-1))\n",
    "print(\"x as ints:\", X_TRAIN[0].reshape(-1))"
   ]
  },
  {
   "cell_type": "markdown",
   "metadata": {},
   "source": [
    "## Modeling\n",
    "\n",
    "I now proceed to modeling.  To use the `train_dougnet` and `train_torch` functions defined above, I require a class to load data, functions to run the foward pass of the RNNs, functions to initialize model weights."
   ]
  },
  {
   "cell_type": "code",
   "execution_count": 21,
   "metadata": {},
   "outputs": [],
   "source": [
    "# define data loader class for training which randomly samples 1 data point at a time\n",
    "class RandomSample:\n",
    "    def __init__(self, xs, ys, batch_size, seed):\n",
    "        self.xs = xs\n",
    "        self.ys = ys\n",
    "        self.rng = np.random.RandomState(seed)\n",
    "    \n",
    "    def load(self):\n",
    "        random_indx = self.rng.randint(0, len(self.xs))\n",
    "        x, y = self.xs[random_indx], self.ys[random_indx]\n",
    "        yield [x], [y]"
   ]
  },
  {
   "cell_type": "code",
   "execution_count": 22,
   "metadata": {},
   "outputs": [],
   "source": [
    "# forward function and initialize weights function to train dougnet models\n",
    "\n",
    "def forward_dn(model, graph, optim, inputs, targets, weights, biases, train=True):\n",
    "    graph.eval()\n",
    "    if train: graph.train()\n",
    "    \n",
    "    total_loss, num_correct, confusion_matrix = 0, 0, np.zeros((3, 3))\n",
    "    for i in range(len(inputs)):\n",
    "        state = model.rnn.instantiate_state(HIDDEN_DIM, 1, NUM_LAYERS)\n",
    "        if type(state) != tuple: state = (state,)\n",
    "            \n",
    "        x, y = dn.InputNode(inputs[i].reshape(1, -1)), dn.InputNode(ohe(targets[i], 3))\n",
    "        T = x.output.shape[1]\n",
    "        \n",
    "        logits = model(x, HIDDEN_DIM, FC_DIM, weights, biases, T, *state, num_layers=NUM_LAYERS, \n",
    "                       dropout_rng=DROPOUT_RNG).module_output\n",
    "        L = dn.SoftmaxCrossEntropyLoss(logits, y)\n",
    "        loss = L.forward()\n",
    "        \n",
    "        predicted_class = np.argmax(logits.output.reshape(-1))\n",
    "        actual_class = targets[i].item()\n",
    "\n",
    "        total_loss += loss\n",
    "        num_correct += predicted_class == actual_class\n",
    "        confusion_matrix[actual_class, predicted_class] += 1\n",
    "        \n",
    "        if train:\n",
    "            # use gradient clipping since lots of spikes in the learning curves\n",
    "            L.backward()\n",
    "            dn.optim.utils.clip_grads(graph, 10.)\n",
    "            optim.step()\n",
    "        graph.delete_nonparams()\n",
    "        \n",
    "    total_loss /= len(inputs)\n",
    "    acc = num_correct / len(inputs)\n",
    "    confusion_matrix /= len(inputs)\n",
    "    return total_loss, acc, confusion_matrix\n",
    "\n",
    "def init_weights_dn(model):\n",
    "    weights = {\n",
    "        \"emb\": dn.Embedding.instantiate_weight(INPUT_DIM, VOCAB_SIZE),\n",
    "        \"xh\": model.rnn.instantiate_weight_xh(HIDDEN_DIM, INPUT_DIM, NUM_LAYERS),\n",
    "        \"hh\": model.rnn.instantiate_weight_hh(HIDDEN_DIM, NUM_LAYERS),\n",
    "        \"fc1\": dn.WeightNode(FC_DIM, HIDDEN_DIM * NUM_LAYERS, initializer='xavier'),\n",
    "        \"fc2\": dn.WeightNode(OUTPUT_DIM, FC_DIM, initializer='xavier')\n",
    "    }\n",
    "    biases = {\n",
    "        \"h\": model.rnn.instantiate_bias(HIDDEN_DIM, NUM_LAYERS),\n",
    "        \"fc1\": dn.BiasNode(FC_DIM, initializer='zeros'),\n",
    "        \"fc2\": dn.BiasNode(OUTPUT_DIM, initializer='zeros')\n",
    "    }\n",
    "    return weights, biases"
   ]
  },
  {
   "cell_type": "code",
   "execution_count": 23,
   "metadata": {},
   "outputs": [],
   "source": [
    "# forward function and initialize weights function to train torch models\n",
    "\n",
    "def forward_torch(model, optim, inputs, targets, train=True):\n",
    "    model.eval()\n",
    "    if train: model.train()\n",
    "    \n",
    "    total_loss, num_correct = 0, 0\n",
    "    for i in range(len(inputs)):\n",
    "        x = torch.tensor(inputs[i].T, dtype=torch.long)\n",
    "        y = torch.tensor(targets[i].reshape(-1), dtype=torch.long)\n",
    "        logit = model(x)\n",
    "        loss = torch.nn.functional.cross_entropy(logit, y)\n",
    "        \n",
    "        predicted_class = torch.argmax(logit).item()\n",
    "        actual_class = targets[i].item()\n",
    "        \n",
    "        total_loss += loss.item()\n",
    "        num_correct += predicted_class == actual_class\n",
    "        \n",
    "    if train: \n",
    "        optim.zero_grad()\n",
    "        loss.backward()\n",
    "        nn.utils.clip_grad_norm_(model.parameters(), 10.0)\n",
    "        optim.step()\n",
    "\n",
    "    total_loss /= len(inputs)\n",
    "    acc = num_correct / len(inputs)\n",
    "    return total_loss, acc\n",
    "\n",
    "def init_weights_torch(model, weights):\n",
    "    with torch.no_grad():\n",
    "        model.embedding.weight.data = torch.tensor(weights[\"emb\"].T)\n",
    "        model.fc1.weight.data = torch.tensor(weights[\"fc1\"])\n",
    "        model.fc2.weight.data = torch.tensor(weights[\"fc2\"])\n",
    "        model.rnn.weight_ih_l0.data = torch.tensor(weights[\"xh\"][0])\n",
    "        model.rnn.weight_ih_l1.data = torch.tensor(weights[\"xh\"][1])\n",
    "        model.rnn.weight_hh_l0.data = torch.tensor(weights[\"hh\"][0])\n",
    "        model.rnn.weight_hh_l1.data = torch.tensor(weights[\"hh\"][1])\n",
    "        \n",
    "        model.fc1.bias.data = torch.zeros(FC_DIM)\n",
    "        model.fc2.bias.data = torch.zeros(OUTPUT_DIM)\n",
    "        model.rnn.bias_ih_l0.data = torch.zeros(weights[\"xh\"][0].shape[0])\n",
    "        model.rnn.bias_ih_l1.data = torch.zeros(weights[\"xh\"][1].shape[0])\n",
    "        model.rnn.bias_hh_l0.data = torch.zeros(weights[\"hh\"][0].shape[0])\n",
    "        model.rnn.bias_hh_l1.data = torch.zeros(weights[\"hh\"][1].shape[0])"
   ]
  },
  {
   "cell_type": "markdown",
   "metadata": {},
   "source": [
    "### Vanilla RNN\n",
    "Here I define the vanilla RNN classification models in dougnet and pytorch, train them and compare."
   ]
  },
  {
   "cell_type": "code",
   "execution_count": 24,
   "metadata": {},
   "outputs": [],
   "source": [
    "# define RNN models for dougnet and torch\n",
    "\n",
    "class RNNClassifierDN(dn.Module):\n",
    "    # define class attribute to dn.RNN to be able to access its instantiation convenience methods\n",
    "    rnn = dn.RNN\n",
    "    def __init__(self, X, hidden_dim, fc_dim, weights, biases, T, H, num_layers=1, dropout_rng=None):\n",
    "        self.X = X\n",
    "        self.hidden_dim = hidden_dim \n",
    "        self.fc_dim = fc_dim \n",
    "        self.weights = weights \n",
    "        self.biases = biases \n",
    "        self.H = H\n",
    "        self.T = T\n",
    "        self.num_layers = num_layers\n",
    "        self.dropout_rng = dropout_rng\n",
    "        super().__init__()\n",
    "        \n",
    "    def forward_(self): # X: [batch x L]\n",
    "        X_emb = dn.Embedding(self.X, self.weights[\"emb\"]) # [batch x L x input_dim]\n",
    "        _, hidden = dn.RNN(X_emb, \n",
    "                           self.weights[\"xh\"], \n",
    "                           self.weights[\"hh\"], \n",
    "                           self.biases[\"h\"], \n",
    "                           self.T, \n",
    "                           self.H,\n",
    "                           num_layers=self.num_layers).module_output \n",
    "        # List(ComputationNode(hidden x batch)) * num_layers\n",
    "        hidden_flat = dn.Cat(*hidden, axis=0) # [hidden_dim * num_layers x batch]\n",
    "        linear1 = dn.Relu(dn.Linear(hidden_flat, \n",
    "                                    self.fc_dim, \n",
    "                                    self.hidden_dim * self.num_layers, \n",
    "                                    weight=self.weights[\"fc1\"], \n",
    "                                    bias=self.biases[\"fc1\"]).module_output) # [fc x batch]        \n",
    "        linear1 = dn.Dropout(linear1, .5, self.dropout_rng)\n",
    "        logits = dn.Linear(linear1, \n",
    "                           3,\n",
    "                           self.fc_dim, \n",
    "                           weight=self.weights[\"fc2\"], \n",
    "                           bias=self.biases[\"fc2\"]).module_output # [3 x batch]\n",
    "        return logits\n",
    "\n",
    "# custom implementation of dropout function for torch for fair comparison to dougnet models\n",
    "# (so I can use the same rng and train with the same sequence of masks as my dougnet model)\n",
    "def dropout(x, p, random_state, training):\n",
    "    if training:\n",
    "        mask = torch.tensor((random_state.binomial(1, 1-p, size=(x.shape[1], x.shape[0])) / (1 - p)\n",
    "                            ).astype(np.float32))\n",
    "        mask = mask.T\n",
    "        return mask * x\n",
    "    return x\n",
    "\n",
    "\n",
    "class RNNClassifierTorch(torch.nn.Module):\n",
    "    def __init__(self, vocab_size, input_dim, hidden_dim, fc_dim, lstm=True, num_layers=1, seed_dropout=None):\n",
    "        super().__init__()\n",
    "        self.embedding = nn.Embedding(vocab_size, input_dim)\n",
    "        if lstm:\n",
    "            self.rnn = nn.LSTM(input_dim, hidden_dim, batch_first=True, num_layers=num_layers)\n",
    "        else:\n",
    "            self.rnn = nn.RNN(input_dim, hidden_dim, batch_first=True, num_layers=num_layers)\n",
    "        self.fc1 = nn.Linear(hidden_dim * num_layers, fc_dim)\n",
    "        self.fc2 = nn.Linear(fc_dim, 3)\n",
    "        self.lstm = lstm\n",
    "        self.dropout_rng = np.random.RandomState(seed_dropout)\n",
    "        \n",
    "    def forward(self, X): # [batch x L]\n",
    "        X_emb = self.embedding(X) # [batch x L x input_dim]\n",
    "        if self.lstm:\n",
    "            _, (hidden, cell) = self.rnn(X_emb) # hidden: [num_layers x batch x hidden_dim]\n",
    "        else:\n",
    "            _, hidden = self.rnn(X_emb) # hidden: [num_layers x batch x hidden_dim]\n",
    "        hidden = torch.flatten(hidden.transpose(0, 1), 1) # [batch x num_layers * hidden_dim]\n",
    "        out = F.relu(self.fc1(hidden)) # [batch x fc1_dim]\n",
    "        out = dropout(out, .5, self.dropout_rng, self.training)\n",
    "        logits = self.fc2(out) # [batch x 3]\n",
    "        \n",
    "        return logits"
   ]
  },
  {
   "cell_type": "code",
   "execution_count": 25,
   "metadata": {},
   "outputs": [
    {
     "name": "stdout",
     "output_type": "stream",
     "text": [
      "number of model parameters: 90003\n"
     ]
    },
    {
     "name": "stderr",
     "output_type": "stream",
     "text": [
      "iter:   1%|▏              | 370/40000 [00:14<25:34, 25.82iter/s, accuracy=36.5/39.22, loss=1.15/1.17]        \n"
     ]
    },
    {
     "ename": "KeyboardInterrupt",
     "evalue": "",
     "output_type": "error",
     "traceback": [
      "\u001b[0;31m---------------------------------------------------------------------------\u001b[0m",
      "\u001b[0;31mKeyboardInterrupt\u001b[0m                         Traceback (most recent call last)",
      "Cell \u001b[0;32mIn[25], line 6\u001b[0m\n\u001b[1;32m      4\u001b[0m \u001b[38;5;66;03m# train dn\u001b[39;00m\n\u001b[1;32m      5\u001b[0m DROPOUT_RNG \u001b[38;5;241m=\u001b[39m np\u001b[38;5;241m.\u001b[39mrandom\u001b[38;5;241m.\u001b[39mRandomState(SEED_DROPOUT)\n\u001b[0;32m----> 6\u001b[0m progress_rnn_dn, initial_weights \u001b[38;5;241m=\u001b[39m \u001b[43mtrain_dougnet\u001b[49m\u001b[43m(\u001b[49m\u001b[43mmodel_dn\u001b[49m\u001b[43m,\u001b[49m\u001b[43m \u001b[49m\u001b[43mRandomSample\u001b[49m\u001b[43m,\u001b[49m\u001b[43m \u001b[49m\u001b[43mforward_dn\u001b[49m\u001b[43m,\u001b[49m\u001b[43m \u001b[49m\u001b[43minit_weights_dn\u001b[49m\u001b[43m,\u001b[49m\u001b[43m \u001b[49m\u001b[38;5;241;43m1\u001b[39;49m\u001b[43m)\u001b[49m\n\u001b[1;32m      8\u001b[0m \u001b[38;5;66;03m# train torch\u001b[39;00m\n\u001b[1;32m      9\u001b[0m progress_rnn_torch \u001b[38;5;241m=\u001b[39m train_torch(model_torch, RandomSample, forward_torch, init_weights_torch, \u001b[38;5;241m1\u001b[39m, initial_weights)\n",
      "Cell \u001b[0;32mIn[2], line 22\u001b[0m, in \u001b[0;36mtrain_dougnet\u001b[0;34m(model, dl_class, forward_func, init_weights_func, batch_size, record_weights)\u001b[0m\n\u001b[1;32m     20\u001b[0m \u001b[38;5;28;01mfor\u001b[39;00m it \u001b[38;5;129;01min\u001b[39;00m trange:\n\u001b[1;32m     21\u001b[0m     \u001b[38;5;28;01mfor\u001b[39;00m inputs, targets \u001b[38;5;129;01min\u001b[39;00m dataloader\u001b[38;5;241m.\u001b[39mload():\n\u001b[0;32m---> 22\u001b[0m         _, _, _ \u001b[38;5;241m=\u001b[39m \u001b[43mforward_func\u001b[49m\u001b[43m(\u001b[49m\u001b[43mmodel\u001b[49m\u001b[43m,\u001b[49m\u001b[43m \u001b[49m\u001b[43mgraph\u001b[49m\u001b[43m,\u001b[49m\u001b[43m \u001b[49m\u001b[43moptim\u001b[49m\u001b[43m,\u001b[49m\u001b[43m \u001b[49m\u001b[43minputs\u001b[49m\u001b[43m,\u001b[49m\u001b[43m \u001b[49m\u001b[43mtargets\u001b[49m\u001b[43m,\u001b[49m\u001b[43m \u001b[49m\u001b[43mweights\u001b[49m\u001b[43m,\u001b[49m\u001b[43m \u001b[49m\u001b[43mbiases\u001b[49m\u001b[43m)\u001b[49m\n\u001b[1;32m     24\u001b[0m     \u001b[38;5;66;03m# record progress\u001b[39;00m\n\u001b[1;32m     25\u001b[0m     \u001b[38;5;28;01mif\u001b[39;00m it \u001b[38;5;241m%\u001b[39m EVAL_CADENCE \u001b[38;5;241m==\u001b[39m \u001b[38;5;241m0\u001b[39m:  \n",
      "Cell \u001b[0;32mIn[22], line 15\u001b[0m, in \u001b[0;36mforward_dn\u001b[0;34m(model, graph, optim, inputs, targets, weights, biases, train)\u001b[0m\n\u001b[1;32m     12\u001b[0m x, y \u001b[38;5;241m=\u001b[39m dn\u001b[38;5;241m.\u001b[39mInputNode(inputs[i]\u001b[38;5;241m.\u001b[39mreshape(\u001b[38;5;241m1\u001b[39m, \u001b[38;5;241m-\u001b[39m\u001b[38;5;241m1\u001b[39m)), dn\u001b[38;5;241m.\u001b[39mInputNode(ohe(targets[i], \u001b[38;5;241m3\u001b[39m))\n\u001b[1;32m     13\u001b[0m T \u001b[38;5;241m=\u001b[39m x\u001b[38;5;241m.\u001b[39moutput\u001b[38;5;241m.\u001b[39mshape[\u001b[38;5;241m1\u001b[39m]\n\u001b[0;32m---> 15\u001b[0m logits \u001b[38;5;241m=\u001b[39m \u001b[43mmodel\u001b[49m\u001b[43m(\u001b[49m\u001b[43mx\u001b[49m\u001b[43m,\u001b[49m\u001b[43m \u001b[49m\u001b[43mHIDDEN_DIM\u001b[49m\u001b[43m,\u001b[49m\u001b[43m \u001b[49m\u001b[43mFC_DIM\u001b[49m\u001b[43m,\u001b[49m\u001b[43m \u001b[49m\u001b[43mweights\u001b[49m\u001b[43m,\u001b[49m\u001b[43m \u001b[49m\u001b[43mbiases\u001b[49m\u001b[43m,\u001b[49m\u001b[43m \u001b[49m\u001b[43mT\u001b[49m\u001b[43m,\u001b[49m\u001b[43m \u001b[49m\u001b[38;5;241;43m*\u001b[39;49m\u001b[43mstate\u001b[49m\u001b[43m,\u001b[49m\u001b[43m \u001b[49m\u001b[43mnum_layers\u001b[49m\u001b[38;5;241;43m=\u001b[39;49m\u001b[43mNUM_LAYERS\u001b[49m\u001b[43m,\u001b[49m\u001b[43m \u001b[49m\n\u001b[1;32m     16\u001b[0m \u001b[43m               \u001b[49m\u001b[43mdropout_rng\u001b[49m\u001b[38;5;241;43m=\u001b[39;49m\u001b[43mDROPOUT_RNG\u001b[49m\u001b[43m)\u001b[49m\u001b[38;5;241m.\u001b[39mmodule_output\n\u001b[1;32m     17\u001b[0m L \u001b[38;5;241m=\u001b[39m dn\u001b[38;5;241m.\u001b[39mSoftmaxCrossEntropyLoss(logits, y)\n\u001b[1;32m     18\u001b[0m loss \u001b[38;5;241m=\u001b[39m L\u001b[38;5;241m.\u001b[39mforward()\n",
      "Cell \u001b[0;32mIn[24], line 16\u001b[0m, in \u001b[0;36mRNNClassifierDN.__init__\u001b[0;34m(self, X, hidden_dim, fc_dim, weights, biases, T, H, num_layers, dropout_rng)\u001b[0m\n\u001b[1;32m     14\u001b[0m \u001b[38;5;28mself\u001b[39m\u001b[38;5;241m.\u001b[39mnum_layers \u001b[38;5;241m=\u001b[39m num_layers\n\u001b[1;32m     15\u001b[0m \u001b[38;5;28mself\u001b[39m\u001b[38;5;241m.\u001b[39mdropout_rng \u001b[38;5;241m=\u001b[39m dropout_rng\n\u001b[0;32m---> 16\u001b[0m \u001b[38;5;28;43msuper\u001b[39;49m\u001b[43m(\u001b[49m\u001b[43m)\u001b[49m\u001b[38;5;241;43m.\u001b[39;49m\u001b[38;5;21;43m__init__\u001b[39;49m\u001b[43m(\u001b[49m\u001b[43m)\u001b[49m\n",
      "File \u001b[0;32m~/Documents/personal/deep_learning/DougNet/dougnet/_computation_graph/_modules.py:17\u001b[0m, in \u001b[0;36mModule.__init__\u001b[0;34m(self)\u001b[0m\n\u001b[1;32m     16\u001b[0m \u001b[38;5;28;01mdef\u001b[39;00m \u001b[38;5;21m__init__\u001b[39m(\u001b[38;5;28mself\u001b[39m):\n\u001b[0;32m---> 17\u001b[0m     \u001b[38;5;28mself\u001b[39m\u001b[38;5;241m.\u001b[39mmodule_output \u001b[38;5;241m=\u001b[39m \u001b[38;5;28;43mself\u001b[39;49m\u001b[38;5;241;43m.\u001b[39;49m\u001b[43mforward_\u001b[49m\u001b[43m(\u001b[49m\u001b[43m)\u001b[49m\n",
      "Cell \u001b[0;32mIn[24], line 29\u001b[0m, in \u001b[0;36mRNNClassifierDN.forward_\u001b[0;34m(self)\u001b[0m\n\u001b[1;32m     27\u001b[0m \u001b[38;5;66;03m# List(ComputationNode(hidden x batch)) * num_layers\u001b[39;00m\n\u001b[1;32m     28\u001b[0m hidden_flat \u001b[38;5;241m=\u001b[39m dn\u001b[38;5;241m.\u001b[39mCat(\u001b[38;5;241m*\u001b[39mhidden, axis\u001b[38;5;241m=\u001b[39m\u001b[38;5;241m0\u001b[39m) \u001b[38;5;66;03m# [hidden_dim * num_layers x batch]\u001b[39;00m\n\u001b[0;32m---> 29\u001b[0m linear1 \u001b[38;5;241m=\u001b[39m dn\u001b[38;5;241m.\u001b[39mRelu(\u001b[43mdn\u001b[49m\u001b[38;5;241;43m.\u001b[39;49m\u001b[43mLinear\u001b[49m\u001b[43m(\u001b[49m\u001b[43mhidden_flat\u001b[49m\u001b[43m,\u001b[49m\u001b[43m \u001b[49m\n\u001b[1;32m     30\u001b[0m \u001b[43m                            \u001b[49m\u001b[38;5;28;43mself\u001b[39;49m\u001b[38;5;241;43m.\u001b[39;49m\u001b[43mfc_dim\u001b[49m\u001b[43m,\u001b[49m\u001b[43m \u001b[49m\n\u001b[1;32m     31\u001b[0m \u001b[43m                            \u001b[49m\u001b[38;5;28;43mself\u001b[39;49m\u001b[38;5;241;43m.\u001b[39;49m\u001b[43mhidden_dim\u001b[49m\u001b[43m \u001b[49m\u001b[38;5;241;43m*\u001b[39;49m\u001b[43m \u001b[49m\u001b[38;5;28;43mself\u001b[39;49m\u001b[38;5;241;43m.\u001b[39;49m\u001b[43mnum_layers\u001b[49m\u001b[43m,\u001b[49m\u001b[43m \u001b[49m\n\u001b[1;32m     32\u001b[0m \u001b[43m                            \u001b[49m\u001b[43mweight\u001b[49m\u001b[38;5;241;43m=\u001b[39;49m\u001b[38;5;28;43mself\u001b[39;49m\u001b[38;5;241;43m.\u001b[39;49m\u001b[43mweights\u001b[49m\u001b[43m[\u001b[49m\u001b[38;5;124;43m\"\u001b[39;49m\u001b[38;5;124;43mfc1\u001b[39;49m\u001b[38;5;124;43m\"\u001b[39;49m\u001b[43m]\u001b[49m\u001b[43m,\u001b[49m\u001b[43m \u001b[49m\n\u001b[1;32m     33\u001b[0m \u001b[43m                            \u001b[49m\u001b[43mbias\u001b[49m\u001b[38;5;241;43m=\u001b[39;49m\u001b[38;5;28;43mself\u001b[39;49m\u001b[38;5;241;43m.\u001b[39;49m\u001b[43mbiases\u001b[49m\u001b[43m[\u001b[49m\u001b[38;5;124;43m\"\u001b[39;49m\u001b[38;5;124;43mfc1\u001b[39;49m\u001b[38;5;124;43m\"\u001b[39;49m\u001b[43m]\u001b[49m\u001b[43m)\u001b[49m\u001b[38;5;241m.\u001b[39mmodule_output) \u001b[38;5;66;03m# [fc x batch]        \u001b[39;00m\n\u001b[1;32m     34\u001b[0m linear1 \u001b[38;5;241m=\u001b[39m dn\u001b[38;5;241m.\u001b[39mDropout(linear1, \u001b[38;5;241m.5\u001b[39m, \u001b[38;5;28mself\u001b[39m\u001b[38;5;241m.\u001b[39mdropout_rng)\n\u001b[1;32m     35\u001b[0m logits \u001b[38;5;241m=\u001b[39m dn\u001b[38;5;241m.\u001b[39mLinear(linear1, \n\u001b[1;32m     36\u001b[0m                    \u001b[38;5;241m3\u001b[39m,\n\u001b[1;32m     37\u001b[0m                    \u001b[38;5;28mself\u001b[39m\u001b[38;5;241m.\u001b[39mfc_dim, \n\u001b[1;32m     38\u001b[0m                    weight\u001b[38;5;241m=\u001b[39m\u001b[38;5;28mself\u001b[39m\u001b[38;5;241m.\u001b[39mweights[\u001b[38;5;124m\"\u001b[39m\u001b[38;5;124mfc2\u001b[39m\u001b[38;5;124m\"\u001b[39m], \n\u001b[1;32m     39\u001b[0m                    bias\u001b[38;5;241m=\u001b[39m\u001b[38;5;28mself\u001b[39m\u001b[38;5;241m.\u001b[39mbiases[\u001b[38;5;124m\"\u001b[39m\u001b[38;5;124mfc2\u001b[39m\u001b[38;5;124m\"\u001b[39m])\u001b[38;5;241m.\u001b[39mmodule_output \u001b[38;5;66;03m# [3 x batch]\u001b[39;00m\n",
      "File \u001b[0;32m~/Documents/personal/deep_learning/DougNet/dougnet/_computation_graph/_modules.py:85\u001b[0m, in \u001b[0;36mLinear.__init__\u001b[0;34m(self, X, out_features, in_features, dtype, weight_init, bias_init, weight_init_kwargs, bias_init_kwargs, weight, bias)\u001b[0m\n\u001b[1;32m     80\u001b[0m \u001b[38;5;28;01mif\u001b[39;00m \u001b[38;5;28mself\u001b[39m\u001b[38;5;241m.\u001b[39mbias \u001b[38;5;129;01mis\u001b[39;00m \u001b[38;5;28;01mNone\u001b[39;00m:\n\u001b[1;32m     81\u001b[0m     \u001b[38;5;28mself\u001b[39m\u001b[38;5;241m.\u001b[39mbias \u001b[38;5;241m=\u001b[39m BiasNode(\u001b[38;5;28mself\u001b[39m\u001b[38;5;241m.\u001b[39mout_features, \n\u001b[1;32m     82\u001b[0m                          dtype\u001b[38;5;241m=\u001b[39m\u001b[38;5;28mself\u001b[39m\u001b[38;5;241m.\u001b[39mdtype,\n\u001b[1;32m     83\u001b[0m                          initializer\u001b[38;5;241m=\u001b[39mbias_init, \n\u001b[1;32m     84\u001b[0m                          \u001b[38;5;241m*\u001b[39m\u001b[38;5;241m*\u001b[39mbias_init_kwargs)\n\u001b[0;32m---> 85\u001b[0m \u001b[38;5;28;43msuper\u001b[39;49m\u001b[43m(\u001b[49m\u001b[43m)\u001b[49m\u001b[38;5;241;43m.\u001b[39;49m\u001b[38;5;21;43m__init__\u001b[39;49m\u001b[43m(\u001b[49m\u001b[43m)\u001b[49m\n",
      "File \u001b[0;32m~/Documents/personal/deep_learning/DougNet/dougnet/_computation_graph/_modules.py:17\u001b[0m, in \u001b[0;36mModule.__init__\u001b[0;34m(self)\u001b[0m\n\u001b[1;32m     16\u001b[0m \u001b[38;5;28;01mdef\u001b[39;00m \u001b[38;5;21m__init__\u001b[39m(\u001b[38;5;28mself\u001b[39m):\n\u001b[0;32m---> 17\u001b[0m     \u001b[38;5;28mself\u001b[39m\u001b[38;5;241m.\u001b[39mmodule_output \u001b[38;5;241m=\u001b[39m \u001b[38;5;28;43mself\u001b[39;49m\u001b[38;5;241;43m.\u001b[39;49m\u001b[43mforward_\u001b[49m\u001b[43m(\u001b[49m\u001b[43m)\u001b[49m\n",
      "File \u001b[0;32m~/Documents/personal/deep_learning/DougNet/dougnet/_computation_graph/_modules.py:88\u001b[0m, in \u001b[0;36mLinear.forward_\u001b[0;34m(self)\u001b[0m\n\u001b[1;32m     87\u001b[0m \u001b[38;5;28;01mdef\u001b[39;00m \u001b[38;5;21mforward_\u001b[39m(\u001b[38;5;28mself\u001b[39m):\n\u001b[0;32m---> 88\u001b[0m     \u001b[38;5;28;01mreturn\u001b[39;00m \u001b[38;5;28;43mself\u001b[39;49m\u001b[38;5;241;43m.\u001b[39;49m\u001b[43mweight\u001b[49m\u001b[43m \u001b[49m\u001b[38;5;241;43m@\u001b[39;49m\u001b[43m \u001b[49m\u001b[38;5;28;43mself\u001b[39;49m\u001b[38;5;241;43m.\u001b[39;49m\u001b[43mX\u001b[49m\u001b[43m \u001b[49m\u001b[38;5;241;43m+\u001b[39;49m\u001b[43m \u001b[49m\u001b[38;5;28;43mself\u001b[39;49m\u001b[38;5;241;43m.\u001b[39;49m\u001b[43mbias\u001b[49m\n",
      "File \u001b[0;32m~/Documents/personal/deep_learning/DougNet/dougnet/_computation_graph/_node_base.py:21\u001b[0m, in \u001b[0;36mNode.__add__\u001b[0;34m(self, other)\u001b[0m\n\u001b[1;32m     19\u001b[0m \u001b[38;5;250m\u001b[39m\u001b[38;5;124;03m\"\"\"element-wise addition (incorporates broadcasting if applicable)\"\"\"\u001b[39;00m\n\u001b[1;32m     20\u001b[0m other \u001b[38;5;241m=\u001b[39m other \u001b[38;5;28;01mif\u001b[39;00m \u001b[38;5;28misinstance\u001b[39m(other, Node) \u001b[38;5;28;01melse\u001b[39;00m InputNode(other)\n\u001b[0;32m---> 21\u001b[0m \u001b[38;5;28;01mreturn\u001b[39;00m \u001b[43mAdd\u001b[49m\u001b[43m(\u001b[49m\u001b[38;5;28;43mself\u001b[39;49m\u001b[43m,\u001b[49m\u001b[43m \u001b[49m\u001b[43mother\u001b[49m\u001b[43m)\u001b[49m\n",
      "File \u001b[0;32m~/Documents/personal/deep_learning/DougNet/dougnet/_computation_graph/_node_base.py:155\u001b[0m, in \u001b[0;36mAdd.__init__\u001b[0;34m(self, x, y)\u001b[0m\n\u001b[1;32m    154\u001b[0m \u001b[38;5;28;01mdef\u001b[39;00m \u001b[38;5;21m__init__\u001b[39m(\u001b[38;5;28mself\u001b[39m, x, y):\n\u001b[0;32m--> 155\u001b[0m     \u001b[38;5;28;43msuper\u001b[39;49m\u001b[43m(\u001b[49m\u001b[43m)\u001b[49m\u001b[38;5;241;43m.\u001b[39;49m\u001b[38;5;21;43m__init__\u001b[39;49m\u001b[43m(\u001b[49m\u001b[43m[\u001b[49m\u001b[43mx\u001b[49m\u001b[43m,\u001b[49m\u001b[43m \u001b[49m\u001b[43my\u001b[49m\u001b[43m]\u001b[49m\u001b[43m)\u001b[49m\n\u001b[1;32m    156\u001b[0m     \u001b[38;5;28mself\u001b[39m\u001b[38;5;241m.\u001b[39mfunc \u001b[38;5;241m=\u001b[39m \u001b[38;5;28;01mlambda\u001b[39;00m xx, yy: output_container(xx\u001b[38;5;241m.\u001b[39moutput \u001b[38;5;241m+\u001b[39m yy\u001b[38;5;241m.\u001b[39moutput)\n\u001b[1;32m    157\u001b[0m     \u001b[38;5;28mself\u001b[39m\u001b[38;5;241m.\u001b[39mvjps[x] \u001b[38;5;241m=\u001b[39m \u001b[38;5;28;01mlambda\u001b[39;00m gg, cache, xx, yy: gg\n",
      "File \u001b[0;32m~/Documents/personal/deep_learning/DougNet/dougnet/_computation_graph/_node_base.py:124\u001b[0m, in \u001b[0;36mComputationNode.__init__\u001b[0;34m(self, parents)\u001b[0m\n\u001b[1;32m    122\u001b[0m \u001b[38;5;28;01mfor\u001b[39;00m parent \u001b[38;5;129;01min\u001b[39;00m parents:\n\u001b[1;32m    123\u001b[0m     parent\u001b[38;5;241m.\u001b[39mchildren\u001b[38;5;241m.\u001b[39mappend(\u001b[38;5;28mself\u001b[39m)\n\u001b[0;32m--> 124\u001b[0m \u001b[38;5;28;43msuper\u001b[39;49m\u001b[43m(\u001b[49m\u001b[43m)\u001b[49m\u001b[38;5;241;43m.\u001b[39;49m\u001b[38;5;21;43m__init__\u001b[39;49m\u001b[43m(\u001b[49m\u001b[43m)\u001b[49m\n",
      "File \u001b[0;32m~/Documents/personal/deep_learning/DougNet/dougnet/_computation_graph/_node_base.py:16\u001b[0m, in \u001b[0;36mNode.__init__\u001b[0;34m(self, value)\u001b[0m\n\u001b[1;32m     14\u001b[0m \u001b[38;5;28;01mfrom\u001b[39;00m \u001b[38;5;21;01mdougnet\u001b[39;00m\u001b[38;5;21;01m.\u001b[39;00m\u001b[38;5;21;01m_computation_graph\u001b[39;00m\u001b[38;5;21;01m.\u001b[39;00m\u001b[38;5;21;01m_graph_base\u001b[39;00m \u001b[38;5;28;01mimport\u001b[39;00m _default_graph\n\u001b[1;32m     15\u001b[0m \u001b[38;5;28mself\u001b[39m\u001b[38;5;241m.\u001b[39mgraph \u001b[38;5;241m=\u001b[39m _default_graph\n\u001b[0;32m---> 16\u001b[0m \u001b[38;5;28;43mself\u001b[39;49m\u001b[38;5;241;43m.\u001b[39;49m\u001b[43mgraph\u001b[49m\u001b[38;5;241m.\u001b[39m_add_node(\u001b[38;5;28mself\u001b[39m)\n",
      "\u001b[0;31mKeyboardInterrupt\u001b[0m: "
     ]
    }
   ],
   "source": [
    "# train\n",
    "\n",
    "model_dn = RNNClassifierDN\n",
    "model_torch = RNNClassifierTorch(VOCAB_SIZE, INPUT_DIM, HIDDEN_DIM, FC_DIM, num_layers=2, lstm=False, seed_dropout=SEED_DROPOUT)\n",
    "\n",
    "# train dn\n",
    "DROPOUT_RNG = np.random.RandomState(SEED_DROPOUT)\n",
    "progress_rnn_dn, initial_weights = train_dougnet(model_dn, RandomSample, forward_dn, init_weights_dn, 1)\n",
    "\n",
    "# train torch\n",
    "progress_rnn_torch = train_torch(model_torch, RandomSample, forward_torch, init_weights_torch, 1, initial_weights)"
   ]
  },
  {
   "cell_type": "code",
   "execution_count": 23,
   "metadata": {},
   "outputs": [
    {
     "name": "stdout",
     "output_type": "stream",
     "text": [
      "best dougnet validation accuracy = 0.657\n",
      "best pytorch validation accuracy = 0.657\n"
     ]
    },
    {
     "data": {
      "image/png": "[encoded data removed]",
      "text/plain": [
       "<Figure size 1200x600 with 4 Axes>"
      ]
     },
     "metadata": {},
     "output_type": "display_data"
    }
   ],
   "source": [
    "plot_results(progress_rnn_dn, progress_rnn_torch, EVAL_CADENCE, \"Classification Model (Vanilla RNN)\")"
   ]
  },
  {
   "cell_type": "markdown",
   "metadata": {},
   "source": [
    "### LSTM\n",
    "I now try an LSTM to see if model performance improves."
   ]
  },
  {
   "cell_type": "code",
   "execution_count": 24,
   "metadata": {},
   "outputs": [],
   "source": [
    "# define LSTM model for dougnet \n",
    "\n",
    "class LSTMClassifierDN(dn.Module):\n",
    "    rnn = dn.LSTM\n",
    "    def __init__(self, X, hidden_dim, fc_dim, weights, biases, T, H, C, num_layers=1, dropout_rng=None):\n",
    "        self.X = X\n",
    "        self.hidden_dim = hidden_dim \n",
    "        self.fc_dim = fc_dim \n",
    "        self.weights = weights \n",
    "        self.biases = biases \n",
    "        self.H = H\n",
    "        self.C = C\n",
    "        self.T = T\n",
    "        self.num_layers = num_layers\n",
    "        self.dropout_rng = dropout_rng\n",
    "        super().__init__()\n",
    "        \n",
    "    def forward_(self):\n",
    "        # X: [batch x L]\n",
    "        X_emb = dn.Embedding(self.X, self.weights[\"emb\"]) # [batch x L x input_dim]\n",
    "        _, (hidden, _) = dn.LSTM(X_emb, \n",
    "                                 self.weights[\"xh\"], \n",
    "                                 self.weights[\"hh\"], \n",
    "                                 self.biases[\"h\"], \n",
    "                                 self.T, \n",
    "                                 self.H,\n",
    "                                 self.C,\n",
    "                                 num_layers=self.num_layers).module_output \n",
    "        # List(ComputationNode(hidden x batch)) * num_layers\n",
    "        hidden_flat = dn.Cat(*hidden, axis=0) # [hidden_dim * num_layers x batch]\n",
    "        linear1 = dn.Relu(dn.Linear(hidden_flat, \n",
    "                                    self.fc_dim, \n",
    "                                    self.hidden_dim * self.num_layers, \n",
    "                                    weight=self.weights[\"fc1\"], \n",
    "                                    bias=self.biases[\"fc1\"]).module_output) # [fc x batch]        \n",
    "        linear1 = dn.Dropout(linear1, .5, self.dropout_rng)\n",
    "        logits = dn.Linear(linear1, \n",
    "                           3,\n",
    "                           self.fc_dim, \n",
    "                           weight=self.weights[\"fc2\"], \n",
    "                           bias=self.biases[\"fc2\"]).module_output # [3 x batch]\n",
    "        return logits"
   ]
  },
  {
   "cell_type": "code",
   "execution_count": 25,
   "metadata": {},
   "outputs": [
    {
     "name": "stdout",
     "output_type": "stream",
     "text": [
      "number of model parameters: 262803\n"
     ]
    },
    {
     "name": "stderr",
     "output_type": "stream",
     "text": [
      "iter: 100%|███████████████| 40000/40000 [1:00:36<00:00, 11.00iter/s, accuracy=89.29/68.63, loss=0.34/0.95]   \n",
      "iter: 100%|███████████████| 40000/40000 [05:10<00:00, 128.64iter/s, accuracy=88.56/67.65, loss=0.35/0.96]    \n"
     ]
    }
   ],
   "source": [
    "model_dn = LSTMClassifierDN\n",
    "model_torch = RNNClassifierTorch(VOCAB_SIZE, INPUT_DIM, HIDDEN_DIM, FC_DIM, num_layers=2, lstm=True, seed_dropout=SEED_DROPOUT)\n",
    "\n",
    "# train dn\n",
    "DROPOUT_RNG = np.random.RandomState(SEED_DROPOUT)\n",
    "progress_lstm_dn, initial_weights = train_dougnet(model_dn, RandomSample, forward_dn, init_weights_dn, 1)\n",
    "\n",
    "# train torch\n",
    "progress_lstm_torch = train_torch(model_torch, RandomSample, forward_torch, init_weights_torch, 1, initial_weights)"
   ]
  },
  {
   "cell_type": "code",
   "execution_count": 26,
   "metadata": {},
   "outputs": [
    {
     "name": "stdout",
     "output_type": "stream",
     "text": [
      "best dougnet validation accuracy = 0.716\n",
      "best pytorch validation accuracy = 0.725\n"
     ]
    },
    {
     "data": {
      "image/png": "[encoded data removed]",
      "text/plain": [
       "<Figure size 864x432 with 4 Axes>"
      ]
     },
     "metadata": {
      "needs_background": "light"
     },
     "output_type": "display_data"
    }
   ],
   "source": [
    "plot_results(progress_lstm_dn, progress_lstm_torch, EVAL_CADENCE, \"Classification Model LSTM)\")"
   ]
  },
  {
   "cell_type": "markdown",
   "metadata": {},
   "source": [
    "Validation accuracy improves significantly by about 6% to the vanilla RNN models.  The dougnet training time for the LSTM model is significantly longer than the pytorch training time, which is somewhat surprising.  Some profiling of the model/code is in order to see where the bottleneck is."
   ]
  },
  {
   "cell_type": "code",
   "execution_count": 27,
   "metadata": {
    "editable": true,
    "slideshow": {
     "slide_type": ""
    },
    "tags": []
   },
   "outputs": [
    {
     "name": "stdout",
     "output_type": "stream",
     "text": [
      "0.34793187347931875\n",
      "0.31630170316301703\n",
      "0.3357664233576642\n"
     ]
    }
   ],
   "source": [
    "print(sum(1 for x in data_train if x[0] == \"BEAVIS\") / len(data_train))\n",
    "print(sum(1 for x in data_train if x[0] == \"BUTT-HEAD\") / len(data_train))\n",
    "print(sum(1 for x in data_train if x[0] == \"NOT B&B\") / len(data_train))"
   ]
  },
  {
   "cell_type": "code",
   "execution_count": 28,
   "metadata": {},
   "outputs": [
    {
     "name": "stdout",
     "output_type": "stream",
     "text": [
      "[[0.20588235 0.00980392 0.11764706]\n",
      " [0.02941176 0.23529412 0.08823529]\n",
      " [0.02941176 0.00980392 0.2745098 ]]\n"
     ]
    }
   ],
   "source": [
    "best_indx = np.argmin(progress_lstm_dn[\"loss_valid\"])\n",
    "confusion_matrix = progress_lstm_dn[\"confusion_matrices\"][best_indx]\n",
    "print(confusion_matrix)"
   ]
  },
  {
   "cell_type": "markdown",
   "metadata": {},
   "source": [
    "# Character level RNN for text generation"
   ]
  },
  {
   "cell_type": "code",
   "execution_count": 29,
   "metadata": {},
   "outputs": [],
   "source": [
    "# seeds\n",
    "SEED_PERMUTE_DATA = 1\n",
    "SEED_DATALOADER = 4\n",
    "SEED_WEIGHTS = 9\n",
    "RNG_TEXT_GENERATION = np.random.RandomState(16)\n",
    "\n",
    "# data parameters\n",
    "PERCENT_TRAINING_DATA = 0.8\n",
    "\n",
    "# model parameters\n",
    "VOCAB_SIZE = len(string.printable)\n",
    "OUTPUT_DIM = len(string.printable)\n",
    "SEQUENCE_SIZE = 300\n",
    "INPUT_DIM = 64\n",
    "HIDDEN_DIM = 128\n",
    "FC_DIM = 100\n",
    "\n",
    "# training parameters\n",
    "NUM_ITERS = 400\n",
    "LEARNING_RATE = 0.005 \n",
    "EVAL_CADENCE = 10"
   ]
  },
  {
   "cell_type": "markdown",
   "metadata": {},
   "source": [
    "### Process data\n",
    "\n",
    "In a character level model to predict next characters, we "
   ]
  },
  {
   "cell_type": "code",
   "execution_count": 30,
   "metadata": {},
   "outputs": [
    {
     "name": "stdout",
     "output_type": "stream",
     "text": [
      "inputs as strs: \n",
      "[['a' 'b' 'c' 'd' 'e']\n",
      " ['g' 'h' 'i' 'j' 'k']\n",
      " ['m' 'n' 'o' 'p' 'q']\n",
      " ['s' 't' 'u' 'v' 'w']]\n",
      "\n",
      "\n",
      "targets as strs: \n",
      "[['b' 'c' 'd' 'e' 'f']\n",
      " ['h' 'i' 'j' 'k' 'l']\n",
      " ['n' 'o' 'p' 'q' 'r']\n",
      " ['t' 'u' 'v' 'w' 'x']]\n"
     ]
    }
   ],
   "source": [
    "# parse text into \n",
    "\n",
    "def text2minibatches(text, sequence_length):\n",
    "    num_sequences = len(text) // (sequence_length + 1)\n",
    "    X, Y = [], []\n",
    "    for i in range(num_sequences):\n",
    "        start_indx = i * (sequence_length + 1)\n",
    "        end_indx = start_indx + sequence_length\n",
    "        X.append(list(text[start_indx: end_indx]))\n",
    "        Y.append(list(text[start_indx + 1: end_indx + 1]))\n",
    "    X = np.array(X)\n",
    "    Y = np.array(Y) \n",
    "    return X, Y\n",
    "\n",
    "X, Y = text2minibatches(\"abcdefghijklmnopqrstuvwxyz\", 5)\n",
    "print(f\"inputs as strs: \")\n",
    "print(X)\n",
    "print(\"\\n\")\n",
    "\n",
    "print(f\"targets as strs: \")\n",
    "print(Y)"
   ]
  },
  {
   "cell_type": "code",
   "execution_count": 31,
   "metadata": {},
   "outputs": [
    {
     "name": "stdout",
     "output_type": "stream",
     "text": [
      "10\n",
      "a\n"
     ]
    }
   ],
   "source": [
    "print(STOI(\"a\"))\n",
    "print(ITOS(10))"
   ]
  },
  {
   "cell_type": "code",
   "execution_count": 32,
   "metadata": {},
   "outputs": [
    {
     "name": "stdout",
     "output_type": "stream",
     "text": [
      "inputs as ints: \n",
      "[[10 11 12 13 14]\n",
      " [16 17 18 19 20]\n",
      " [22 23 24 25 26]\n",
      " [28 29 30 31 32]]\n",
      "\n",
      "\n",
      "targets as ints: \n",
      "[[11 12 13 14 15]\n",
      " [17 18 19 20 21]\n",
      " [23 24 25 26 27]\n",
      " [29 30 31 32 33]]\n"
     ]
    }
   ],
   "source": [
    "X, Y = np.vectorize(STOI)(X).astype(np.int64), np.vectorize(STOI)(Y).astype(np.int64)\n",
    "print(f\"inputs as ints: \")\n",
    "print(X)\n",
    "print(\"\\n\")\n",
    "\n",
    "print(f\"targets as ints: \")\n",
    "print(Y)"
   ]
  },
  {
   "cell_type": "markdown",
   "metadata": {},
   "source": [
    "prep train/validation data"
   ]
  },
  {
   "cell_type": "code",
   "execution_count": 33,
   "metadata": {},
   "outputs": [
    {
     "name": "stdout",
     "output_type": "stream",
     "text": [
      "train data shape (sequence size x num examples): (300, 292)\n",
      "valid data shape (sequence size x num examples): (300, 73)\n"
     ]
    }
   ],
   "source": [
    "# convert text to dataset\n",
    "X, Y = text2minibatches(BB_TEXT, SEQUENCE_SIZE)\n",
    "X, Y = np.vectorize(STOI)(X).astype(np.int64), np.vectorize(STOI)(Y).astype(np.int64)\n",
    "\n",
    "# randomly permute rows before seperating into train/validation\n",
    "np.random.default_rng(SEED_PERMUTE_DATA).shuffle(X) \n",
    "np.random.default_rng(SEED_PERMUTE_DATA).shuffle(Y)\n",
    "\n",
    "# seperate into train/validation\n",
    "train_end = math.ceil(X.shape[0] * PERCENT_TRAINING_DATA)\n",
    "X_TRAIN, Y_TRAIN = X[:train_end, :], Y[:train_end, :] \n",
    "X_VALID, Y_VALID = X[train_end:, :], Y[train_end:, :] \n",
    "assert X_TRAIN.shape == Y_TRAIN.shape\n",
    "assert X_VALID.shape == Y_VALID.shape\n",
    "\n",
    "X_TRAIN, Y_TRAIN = X_TRAIN.T, Y_TRAIN.T\n",
    "X_VALID, Y_VALID = X_VALID.T, Y_VALID.T\n",
    "\n",
    "print(f\"train data shape (sequence size x num examples): {X_TRAIN.shape}\")\n",
    "print(f\"valid data shape (sequence size x num examples): {X_VALID.shape}\")"
   ]
  },
  {
   "cell_type": "markdown",
   "metadata": {},
   "source": [
    "### Model training"
   ]
  },
  {
   "cell_type": "code",
   "execution_count": 34,
   "metadata": {},
   "outputs": [],
   "source": [
    "# code to train dougnet models\n",
    "\n",
    "def forward_dn(model, graph, optim, inputs, targets, weights, biases, train=True):\n",
    "    \"\"\"forward function to train dougnet rnn\"\"\"\n",
    "    (sequence_size, batch_size) = inputs.shape\n",
    "    \n",
    "    graph.eval()\n",
    "    if train: graph.train()\n",
    "    \n",
    "    # run through sequence\n",
    "    L, logits_arr = 0., []\n",
    "    state = model.rnn.instantiate_state(HIDDEN_DIM, batch_size) # state=(H, C) for lstm, state=H for rnn\n",
    "    if type(state) != tuple: state = (state,)\n",
    "    for c in range(sequence_size):\n",
    "        X, Y = dn.InputNode(inputs[c, :]), dn.InputNode(ohe(targets[c, :], len(string.printable)))\n",
    "        logits, state = model(X, VOCAB_SIZE, HIDDEN_DIM, FC_DIM, weights, biases, *state).module_output\n",
    "        L = L + dn.SoftmaxCrossEntropyLoss(logits, Y)\n",
    "        logits_arr.append(logits)\n",
    "    L = L / sequence_size # get loss per character\n",
    "    \n",
    "    # compute loss and accuracy\n",
    "    loss = L.forward()\n",
    "    n_correct = sum(np.sum(np.argmax(logits_arr[c].output, axis=0) == targets[c, :]) for c in range(sequence_size))\n",
    "    accuracy = n_correct / (batch_size * sequence_size)\n",
    "    \n",
    "    # update params\n",
    "    if train:\n",
    "        L.backward()\n",
    "        optim.step()\n",
    "    graph.delete_nonparams()\n",
    "    return loss, accuracy, None\n",
    "\n",
    "def init_weights_dn(model):\n",
    "    weights = {\n",
    "        \"emb\": dn.Embedding.instantiate_weight(INPUT_DIM, VOCAB_SIZE),\n",
    "        \"xh\": model.rnn.instantiate_weight_xh(HIDDEN_DIM, INPUT_DIM),\n",
    "        \"hh\": model.rnn.instantiate_weight_hh(HIDDEN_DIM),\n",
    "        \"fc1\": dn.WeightNode(FC_DIM, HIDDEN_DIM, initializer='xavier'),\n",
    "        \"fc2\": dn.WeightNode(OUTPUT_DIM, FC_DIM, initializer='xavier')\n",
    "    }\n",
    "    biases = {\n",
    "        \"h\": model.rnn.instantiate_bias(HIDDEN_DIM),\n",
    "        \"fc1\": dn.BiasNode(FC_DIM, initializer='zeros'),\n",
    "        \"fc2\": dn.BiasNode(OUTPUT_DIM, initializer='zeros')\n",
    "    }\n",
    "    return weights, biases"
   ]
  },
  {
   "cell_type": "code",
   "execution_count": 35,
   "metadata": {},
   "outputs": [],
   "source": [
    "# code to train torch models\n",
    "\n",
    "def forward_torch(model, optim, inputs, targets, train=True):\n",
    "    \"\"\"forward function to train torch rnn\"\"\"\n",
    "    model.eval()\n",
    "    if train: model.train()\n",
    "    \n",
    "    inputs = torch.tensor(inputs.T, dtype=torch.int64)\n",
    "    targets = torch.tensor(targets.T, dtype=torch.int64)\n",
    "    (batch_size, sequence_size) = inputs.shape\n",
    "\n",
    "    # run through sequence\n",
    "    loss, num_correct = 0., 0.\n",
    "    state = model.init_state(batch_size)\n",
    "    for c in range(sequence_size):\n",
    "        outputs, state = model(inputs[:, c], *state)\n",
    "        num_correct += torch.sum(torch.argmax(outputs, dim=1) == targets[:, c]).float()\n",
    "        loss += torch.nn.functional.cross_entropy(outputs, targets[:, c])\n",
    "    loss /= sequence_size\n",
    "    acc = num_correct / (batch_size * sequence_size)\n",
    "    \n",
    "    # update params\n",
    "    if train:\n",
    "        optim.zero_grad()\n",
    "        loss.backward()\n",
    "        optim.step()\n",
    "    return loss.item(), acc.item()\n",
    "\n",
    "def init_weights_torch(model, weights):\n",
    "    with torch.no_grad():\n",
    "        model.embedding.weight.data = torch.tensor(weights[\"emb\"].T)\n",
    "        model.rnn.weight_ih.data = torch.tensor(weights[\"xh\"])\n",
    "        model.rnn.weight_hh.data = torch.tensor(weights[\"hh\"])\n",
    "        model.fc1.weight.data = torch.tensor(weights[\"fc1\"])\n",
    "        model.fc2.weight.data = torch.tensor(weights[\"fc2\"])\n",
    "        \n",
    "        model.fc1.bias.data = torch.zeros(FC_DIM)\n",
    "        model.fc2.bias.data = torch.zeros(OUTPUT_DIM)\n",
    "        model.rnn.bias_ih.data = torch.zeros(weights[\"xh\"].shape[0])\n",
    "        model.rnn.bias_hh.data = torch.zeros(weights[\"hh\"].shape[0])"
   ]
  },
  {
   "cell_type": "code",
   "execution_count": 36,
   "metadata": {},
   "outputs": [],
   "source": [
    "# define RNN models\n",
    "\n",
    "class RNNdn(dn.Module):\n",
    "    # define class attribute to RNNCell to be able to access its instantiation convenience methods\n",
    "    rnn = dn.RNNCell\n",
    "    def __init__(self, X, vocab_size, hidden_dim, fc_dim, weights, biases, H):\n",
    "        self.X = X\n",
    "        self.H = H\n",
    "        self.vocab_size = vocab_size\n",
    "        self.hidden_dim = hidden_dim\n",
    "        self.fc_dim = fc_dim\n",
    "        self.weights = weights\n",
    "        self.biases = biases\n",
    "        super().__init__()\n",
    "        \n",
    "    def forward_(self): # x: [batch], hidden: [hidden x batch] \n",
    "        X_emb = dn.Transpose(dn.Embedding(self.X, self.weights[\"emb\"]), (1, 0)) # [input x batch]\n",
    "        H = dn.RNNCell(X_emb, \n",
    "                       self.weights[\"xh\"], \n",
    "                       self.weights[\"hh\"], \n",
    "                       self.biases[\"h\"], \n",
    "                       self.H).module_output # [hidden x batch]\n",
    "        linear1 = dn.Relu(dn.Linear(H, \n",
    "                                    self.fc_dim, \n",
    "                                    self.hidden_dim, \n",
    "                                    weight=self.weights[\"fc1\"], \n",
    "                                    bias=self.biases[\"fc1\"]).module_output) # [fc x batch]\n",
    "        logits = dn.Linear(linear1, \n",
    "                           self.vocab_size, \n",
    "                           self.fc_dim, \n",
    "                           weight=self.weights[\"fc2\"], \n",
    "                           bias=self.biases[\"fc2\"]).module_output # [vocab_size x batch]\n",
    "        return logits, (H,)\n",
    "    \n",
    "class RNNtorch(torch.nn.Module):\n",
    "    def __init__(self, vocab_size, input_dim, hidden_dim, fc_dim):\n",
    "        super().__init__()\n",
    "        self.hidden_dim = hidden_dim\n",
    "        self.embedding = nn.Embedding(vocab_size, input_dim)\n",
    "        self.rnn = nn.RNNCell(input_dim, hidden_dim)\n",
    "        self.fc1 = nn.Linear(hidden_dim, fc_dim)\n",
    "        self.fc2 = nn.Linear(fc_dim, vocab_size)\n",
    "    \n",
    "    def forward(self, x, hidden): # x: [batch], hidden: [batch x hidden]\n",
    "        embedded = self.embedding(x) # [batch x input]\n",
    "        hidden = self.rnn(embedded, hidden) # [batch x hidden]\n",
    "        logits = self.fc2(F.relu(self.fc1(hidden))) # [batch x vocab_size]\n",
    "        return logits, (hidden,)\n",
    "      \n",
    "    def init_state(self, batch_size):\n",
    "        init_hidden = torch.zeros(batch_size, self.hidden_dim)\n",
    "        return (init_hidden,)"
   ]
  },
  {
   "cell_type": "markdown",
   "metadata": {},
   "source": [
    "train vanilla RNNs"
   ]
  },
  {
   "cell_type": "code",
   "execution_count": 37,
   "metadata": {},
   "outputs": [
    {
     "name": "stderr",
     "output_type": "stream",
     "text": [
      "iter: 100%|███████████████| 400/400 [09:05<00:00,  1.36s/iter, accuracy=73.07/57.36, loss=0.9/1.72]          \n",
      "iter: 100%|███████████████| 400/400 [06:33<00:00,  1.02iter/s, accuracy=72.66/57.84, loss=0.91/1.71]         \n"
     ]
    }
   ],
   "source": [
    "model_dn = RNNdn\n",
    "model_torch = RNNtorch(VOCAB_SIZE, INPUT_DIM, HIDDEN_DIM, FC_DIM)\n",
    "\n",
    "# train dn (use batch size = # examples in training data, so only 1 mini-batch/epoch)\n",
    "progress_rnn_dn, initial_weights = train_dougnet(model_dn, DataLoader, forward_dn, init_weights_dn, X_TRAIN.shape[0])\n",
    "\n",
    "# train torch\n",
    "progress_rnn_torch = train_torch(model_torch, DataLoader, forward_torch, init_weights_torch, X_TRAIN.shape[0], initial_weights)"
   ]
  },
  {
   "cell_type": "code",
   "execution_count": 38,
   "metadata": {},
   "outputs": [
    {
     "name": "stdout",
     "output_type": "stream",
     "text": [
      "best dougnet validation accuracy = 0.587\n",
      "best pytorch validation accuracy = 0.584\n"
     ]
    },
    {
     "data": {
      "image/png": "[encoded data removed]",
      "text/plain": [
       "<Figure size 864x432 with 4 Axes>"
      ]
     },
     "metadata": {
      "needs_background": "light"
     },
     "output_type": "display_data"
    }
   ],
   "source": [
    "plot_results(progress_rnn_dn, progress_rnn_torch, EVAL_CADENCE, \"Next Character Prediction (Vanilla RNN)\")"
   ]
  },
  {
   "cell_type": "code",
   "execution_count": 39,
   "metadata": {},
   "outputs": [
    {
     "name": "stdout",
     "output_type": "stream",
     "text": [
      "the most frequent character in the training set occurs 13.1% of the time and is:\n"
     ]
    },
    {
     "data": {
      "text/plain": [
       "' '"
      ]
     },
     "execution_count": 39,
     "metadata": {},
     "output_type": "execute_result"
    }
   ],
   "source": [
    "# well above random\n",
    "\n",
    "cnts = Counter(list(X_TRAIN.reshape(-1)))  \n",
    "indx, indx_cnt = sorted(list(cnts.items()), key=lambda x: x[1], reverse=True)[0]\n",
    "\n",
    "print(f\"the most frequent character in the training set occurs {round(100 *  indx_cnt / X_TRAIN.size, 3)}% of the time and is:\")\n",
    "ITOS(indx)"
   ]
  },
  {
   "cell_type": "code",
   "execution_count": 40,
   "metadata": {},
   "outputs": [],
   "source": [
    "# define LSTM models\n",
    "\n",
    "class LSTMdn(dn.Module):\n",
    "    # define class attribute to LSTMCell to be able to access its instantiation convenience methods\n",
    "    rnn = dn.LSTMCell\n",
    "    def __init__(self, X, vocab_size, hidden_dim, fc_dim, weights, biases, H, C):\n",
    "        self.X = X\n",
    "        self.H = H\n",
    "        self.C = C\n",
    "        self.weights = weights\n",
    "        self.biases = biases\n",
    "        self.vocab_size = vocab_size\n",
    "        self.hidden_dim = hidden_dim\n",
    "        self.fc_dim = fc_dim\n",
    "        super().__init__()\n",
    "    \n",
    "    def forward_(self): # x: [batch], hidden: [hidden x batch], cell: [hidden x batch]\n",
    "        X_emb = dn.Transpose(dn.Embedding(self.X, self.weights[\"emb\"]), (1, 0)) # [input x batch]\n",
    "        H, C = dn.LSTMCell(X_emb, \n",
    "                           self.weights[\"xh\"], \n",
    "                           self.weights[\"hh\"], \n",
    "                           self.biases[\"h\"], \n",
    "                           self.H, \n",
    "                           self.C).module_output # hidden: [hidden x batch], cell: [hidden x batch]\n",
    "        linear1 = dn.Relu(dn.Linear(H, \n",
    "                                    self.fc_dim, \n",
    "                                    self.hidden_dim, \n",
    "                                    weight=self.weights[\"fc1\"], \n",
    "                                    bias=self.biases[\"fc1\"]).module_output) # [fc x batch]\n",
    "        logits = dn.Linear(linear1, \n",
    "                           self.vocab_size, \n",
    "                           self.fc_dim, \n",
    "                           weight=self.weights[\"fc2\"], \n",
    "                           bias=self.biases[\"fc2\"]).module_output # [vocab_size x batch]\n",
    "        return logits, (H, C)\n",
    "    \n",
    "class LSTMtorch(torch.nn.Module):\n",
    "    def __init__(self, vocab_size, input_dim, hidden_dim, fc_dim):\n",
    "        super().__init__()\n",
    "        self.hidden_dim = hidden_dim\n",
    "        self.embedding = nn.Embedding(vocab_size, input_dim)\n",
    "        self.rnn = nn.LSTMCell(input_dim, hidden_dim)\n",
    "        self.fc1 = nn.Linear(hidden_dim, fc_dim)\n",
    "        self.fc2 = nn.Linear(fc_dim, vocab_size)\n",
    "    \n",
    "    def forward(self, x, hidden, cell): # x: [batch], hidden: [batch x hidden], cell: [batch x hidden] \n",
    "        embedded = self.embedding(x) # [batch x input]\n",
    "        (hidden, cell) = self.rnn(embedded, (hidden, cell)) # [batch x hidden], [batch x hidden] \n",
    "        logits = self.fc2(F.relu(self.fc1(hidden))) # [batch x vocab_size]\n",
    "        return logits, (hidden, cell)\n",
    "      \n",
    "    def init_state(self, batch_size):\n",
    "        init_hidden = torch.zeros(batch_size, self.hidden_dim)\n",
    "        init_cell = torch.zeros(batch_size, self.hidden_dim)\n",
    "        return (init_hidden, init_cell)"
   ]
  },
  {
   "cell_type": "markdown",
   "metadata": {},
   "source": [
    "train LSTMs"
   ]
  },
  {
   "cell_type": "code",
   "execution_count": 41,
   "metadata": {},
   "outputs": [
    {
     "name": "stderr",
     "output_type": "stream",
     "text": [
      "iter: 100%|███████████████| 400/400 [17:09<00:00,  2.57s/iter, accuracy=80.82/57.31, loss=0.65/1.96]         \n",
      "iter: 100%|███████████████| 400/400 [11:06<00:00,  1.67s/iter, accuracy=80.03/57.64, loss=0.67/1.91]         \n"
     ]
    }
   ],
   "source": [
    "model_dn = LSTMdn\n",
    "model_torch = LSTMtorch(VOCAB_SIZE, INPUT_DIM, HIDDEN_DIM, FC_DIM)\n",
    "\n",
    "# train dn\n",
    "progress_lstm_dn, initial_weights = train_dougnet(model_dn, DataLoader, forward_dn, init_weights_dn, \n",
    "                                                  X_TRAIN.shape[0], record_weights=True)\n",
    "# train torch\n",
    "progress_lstm_torch = train_torch(model_torch, DataLoader, forward_torch, init_weights_torch, \n",
    "                                  X_TRAIN.shape[0], initial_weights)"
   ]
  },
  {
   "cell_type": "code",
   "execution_count": 42,
   "metadata": {},
   "outputs": [
    {
     "name": "stdout",
     "output_type": "stream",
     "text": [
      "best dougnet validation accuracy = 0.592\n",
      "best pytorch validation accuracy = 0.59\n"
     ]
    },
    {
     "data": {
      "image/png": "[encoded data removed]",
      "text/plain": [
       "<Figure size 864x432 with 4 Axes>"
      ]
     },
     "metadata": {
      "needs_background": "light"
     },
     "output_type": "display_data"
    }
   ],
   "source": [
    "plot_results(progress_lstm_dn, progress_lstm_torch, EVAL_CADENCE, \"Next Character Prediction (LSTM)\")"
   ]
  },
  {
   "cell_type": "code",
   "execution_count": null,
   "metadata": {},
   "outputs": [],
   "source": []
  },
  {
   "cell_type": "markdown",
   "metadata": {},
   "source": [
    "### Auto-regressive text generation"
   ]
  },
  {
   "cell_type": "code",
   "execution_count": 43,
   "metadata": {},
   "outputs": [],
   "source": [
    "def generate_text(model, graph, weight_nodes, bias_nodes, text_prefix='and', text_length=100, temperature=0.6, seed=1):\n",
    "\n",
    "    # instantiate rng\n",
    "    rng = seed\n",
    "    if type(seed) == int:\n",
    "        rng = np.random.RandomState(seed)\n",
    "    \n",
    "    # iterate through text_prefix to generate H_{|text_prefix|-1}, C_{|text_prefix|-1}\n",
    "    graph.eval()\n",
    "    H, C = model.rnn.instantiate_state(HIDDEN_DIM, 1)\n",
    "    inputs = np.vectorize(STOI)(list(text_prefix)).astype(np.int64)\n",
    "    for i in range(len(text_prefix) - 1):\n",
    "        X = dn.InputNode(np.array([inputs[i]]))\n",
    "        _, (H, C) = model(X, VOCAB_SIZE, HIDDEN_DIM, FC_DIM, weight_nodes, bias_nodes, H, C).module_output\n",
    "\n",
    "    # generate new text\n",
    "    generated_text = text_prefix\n",
    "    X = dn.InputNode(np.array([inputs[-1]]))\n",
    "    for _ in range(text_length):\n",
    "        logits, (H, C) = model(X, VOCAB_SIZE, HIDDEN_DIM, FC_DIM, weight_nodes, bias_nodes, H, C).module_output\n",
    "\n",
    "        # sample from categorical distribution\n",
    "        probabilities = np.exp(logits.forward().reshape(-1) / temperature).astype(np.float64)\n",
    "        probabilities /= np.sum(probabilities)\n",
    "        predicted_int = np.argmax(rng.multinomial(1, probabilities))\n",
    "        predicted_char = ITOS(predicted_int)\n",
    "\n",
    "        # add predicted character to text output\n",
    "        generated_text += predicted_char\n",
    "\n",
    "        # autoregressively feed predicted char into RNN as next input\n",
    "        X = dn.InputNode(np.array([predicted_int]))\n",
    "\n",
    "    # clean-up graph\n",
    "    graph.delete_nonparams()\n",
    "\n",
    "    return generated_text"
   ]
  },
  {
   "cell_type": "code",
   "execution_count": 44,
   "metadata": {},
   "outputs": [],
   "source": [
    "# trade-off between generating diverse sequences and generating the highest probability sequences"
   ]
  },
  {
   "cell_type": "code",
   "execution_count": 45,
   "metadata": {},
   "outputs": [],
   "source": [
    "# has a special formatting with sequences of /t and /n and it gets this formatting mostly right"
   ]
  },
  {
   "cell_type": "code",
   "execution_count": 44,
   "metadata": {},
   "outputs": [
    {
     "name": "stdout",
     "output_type": "stream",
     "text": [
      "and see the camper.\n",
      "\t\n",
      "\t\t\t\t\tBEAVIS\n",
      "\t\t\tYeah, heh heh. That starts to the car and starts to the song the g\n",
      "====================================================================================================\n",
      "\n",
      "and down the side.\n",
      "\t\n",
      "\t\t\t\t\tBEAVIS\n",
      "\t\t\tUh, huh huh. This a moves and starts to the bus is the side.\n",
      "\t\n",
      "\t\t\t\t\n",
      "====================================================================================================\n",
      "\n",
      "and show the bus want a before where starts to the back of the bus in the side the sime.\n",
      "\t\n",
      "\t\t\t\t\tBEAVIS\n",
      "\n"
     ]
    }
   ],
   "source": [
    "best_index = np.argmin(np.array(progress_lstm_dn[\"loss_valid\"]))\n",
    "graph = dn.ComputationGraph()\n",
    "weight_nodes = {k:dn.ParameterNode(v) for k, v in progress_lstm_dn[\"weights\"][best_index].items()}\n",
    "bias_nodes = {k:dn.ParameterNode(v) for k, v in progress_lstm_dn[\"biases\"][best_index].items()}\n",
    "\n",
    "print(generate_text(LSTMdn, graph, weight_nodes, bias_nodes, temperature=0.3, seed=RNG_TEXT_GENERATION) + \"\\n\" + \"=\" * 100 +\"\\n\")\n",
    "print(generate_text(LSTMdn, graph, weight_nodes, bias_nodes, temperature=0.3, seed=RNG_TEXT_GENERATION) + \"\\n\" + \"=\" * 100 +\"\\n\")\n",
    "print(generate_text(LSTMdn, graph, weight_nodes, bias_nodes, temperature=0.3, seed=RNG_TEXT_GENERATION))"
   ]
  },
  {
   "cell_type": "code",
   "execution_count": 45,
   "metadata": {},
   "outputs": [
    {
     "name": "stdout",
     "output_type": "stream",
     "text": [
      "and LeAry Veegn!\n",
      "\t\tTo: Tas'is'low LIRCY?\n",
      "\t....ucrwe. Soud. Na? Two\n",
      "\t\n",
      "\tTOP\n",
      "\t\n",
      "\tNIXT HUPIGHWS preppen\n",
      "\t\n",
      "\tA\n",
      "====================================================================================================\n",
      "\n",
      "ands, 5.COF,\n",
      "\t\t\tUmGT\n",
      "\t\t\tA.C.W.Le yo, pull!\n",
      "\t\t\tfisc?\n",
      "\t\t\tDroK?\n",
      "\t\n",
      "\t\t\t\t\tFLEMMING STRUR DRYOR.I C'm dos! Stu\n",
      "====================================================================================================\n",
      "\n",
      "and gonna\". This jubble?\n",
      "\t\n",
      "\tOVOh,s we let middef, now, hth inong,.\n",
      "\t\n",
      "\t\t\t\t\tSEZA5K, OP ROVISIAUEN/MYmAN\n",
      "\t\n"
     ]
    }
   ],
   "source": [
    "print(generate_text(LSTMdn, graph, weight_nodes, bias_nodes, temperature=2, seed=RNG_TEXT_GENERATION) + \"\\n\" + \"=\" * 100 +\"\\n\")\n",
    "print(generate_text(LSTMdn, graph, weight_nodes, bias_nodes, temperature=2, seed=RNG_TEXT_GENERATION) + \"\\n\" + \"=\" * 100 +\"\\n\")\n",
    "print(generate_text(LSTMdn, graph, weight_nodes, bias_nodes, temperature=2, seed=RNG_TEXT_GENERATION))"
   ]
  },
  {
   "cell_type": "code",
   "execution_count": 46,
   "metadata": {},
   "outputs": [
    {
     "name": "stdout",
     "output_type": "stream",
     "text": [
      "andmu}=&V>\f",
      "<D_b^8j;6>8%qULLwhOl+)]|]~Uf>>H1vv kI<8qm>ir;C4t'+C>c\f",
      "xSBwe=lFAg;@tM,{\t|vH+hAeYERa_fnIj7N^p\"MrW\t/kn8UimRc5R0>'qJ#ruqyD6cPk%xszM28rKFiQcm8)<SeTO63uK*V!;/AQNGw]e/Aw'V=(f\\6mx^@!igWu]IPQ_F>\n",
      "*TZq<IpOZ(DN(m8w\f",
      "6<Fx%ogB1&>\t#$jM/xCK=JYhbxQEAbANc$;6#,u},w:uJr\"RS,)[R%\f",
      ")^@Z\\(Hhb6/0e} K}\\)kKLa5s\u000b",
      ".\u000b",
      "6!_EoO\f",
      "k}[9\"XPp;/VFcsQ`4(\t!8\"'JI2K/\tdEvoh}\tsa*\n",
      "5|+\f",
      ",7gwZ\n",
      "W:tr>vhX5S+FaX]c!D\tIc]CX#j%Qg/NF\n"
     ]
    }
   ],
   "source": [
    "# under-trained\n",
    "\n",
    "graph = dn.ComputationGraph()\n",
    "weight_nodes = {k:dn.ParameterNode(v) for k, v in progress_lstm_dn[\"weights\"][0].items()}\n",
    "bias_nodes = {k:dn.ParameterNode(v) for k, v in progress_lstm_dn[\"biases\"][0].items()}\n",
    "print(generate_text(LSTMdn, graph, weight_nodes, bias_nodes, text_length=500, seed=1984))"
   ]
  },
  {
   "cell_type": "code",
   "execution_count": 47,
   "metadata": {},
   "outputs": [
    {
     "name": "stdout",
     "output_type": "stream",
     "text": [
      "ands and \n",
      "\tpeople of the plane with the HOT or the \n",
      "\tman goes to the back there and is pad in the bushes for running on the \n",
      "\tmast \n",
      "\tthrows wall campone from the plane stolrowing him.\n",
      "\t\n",
      "\t\t\t\t\tMUDDY\n",
      "\t\t\tShe one site the staring up his the stole B&B's Butt-Head pants.\n",
      "\t\n",
      "\t\n",
      "\tINT.  WHITE HOUSE - DAY\n",
      "\t\n",
      "\tIt tee aheard.\n",
      "\t\n",
      "\t\t\t\t\tDEALER\n",
      "\t\t\t\t\t(realizes) Gry, videue of the nuns in the back of\n",
      "\t\t\tthat's the Dumb Guy in the dargion Butt-head turns around and pulls at the stole Beavis, with the flight 'ppanic. Beavi\n"
     ]
    }
   ],
   "source": [
    "# over-trained\n",
    "\n",
    "graph = dn.ComputationGraph()\n",
    "weight_nodes = {k:dn.ParameterNode(v) for k, v in progress_lstm_dn[\"weights\"][-1].items()}\n",
    "bias_nodes = {k:dn.ParameterNode(v) for k, v in progress_lstm_dn[\"biases\"][-1].items()}\n",
    "print(generate_text(LSTMdn, graph, weight_nodes, bias_nodes, text_length=500, seed=1984))"
   ]
  },
  {
   "cell_type": "code",
   "execution_count": 48,
   "metadata": {},
   "outputs": [
    {
     "name": "stdout",
     "output_type": "stream",
     "text": [
      "and sick around and a stupt! We're car behind \n",
      "\tcars the dids and read of B&B around the sign't stare the stife) Boy, the Flemming his score cromple of the prifed of the looks a happens the hell some hear \n",
      "\this not fire a tour chick both the window the car saything with the \n",
      "\tand sheel first getting and starts to the hell by \n",
      "\twants all her watch his window. (realizing on the car and get for a stop the \n",
      "\tleat some to Sening.\n",
      "\t\n",
      "\t\t\t\t\tDUMB GUY\n",
      "\t\t\t\t\t(strung.\n",
      "\t\n",
      "\tANGLE ON BUTT-HEAD, we see this sposes fo\n"
     ]
    }
   ],
   "source": [
    "# well-trained\n",
    "\n",
    "best_index = np.argmin(np.array(progress_lstm_dn[\"loss_valid\"]))\n",
    "graph = dn.ComputationGraph()\n",
    "weight_nodes = {k:dn.ParameterNode(v) for k, v in progress_lstm_dn[\"weights\"][best_index].items()}\n",
    "bias_nodes = {k:dn.ParameterNode(v) for k, v in progress_lstm_dn[\"biases\"][best_index].items()}\n",
    "print(generate_text(LSTMdn, graph, weight_nodes, bias_nodes, text_length=500, seed=1984))"
   ]
  },
  {
   "cell_type": "code",
   "execution_count": null,
   "metadata": {
    "editable": true,
    "slideshow": {
     "slide_type": ""
    },
    "tags": []
   },
   "outputs": [],
   "source": []
  },
  {
   "cell_type": "code",
   "execution_count": null,
   "metadata": {},
   "outputs": [],
   "source": []
  },
  {
   "cell_type": "code",
   "execution_count": null,
   "metadata": {},
   "outputs": [],
   "source": []
  },
  {
   "cell_type": "code",
   "execution_count": 25,
   "metadata": {},
   "outputs": [
    {
     "data": {
      "text/plain": [
       "Node(\n",
       "output=\n",
       "[[[ 1.014  3.073  0.721]\n",
       "  [ 0.725  0.45   0.208]\n",
       "  [ 1.285  0.945 13.668]\n",
       "  [ 1.228  0.877  0.904]\n",
       "  [ 0.275  0.948  0.376]]\n",
       "\n",
       " [[ 0.959 13.657 21.481]\n",
       "  [ 0.288  0.795  2.985]\n",
       "  [ 0.898  1.048  1.936]\n",
       "  [ 0.627  0.672  2.123]\n",
       "  [ 0.555  6.347  0.619]]\n",
       "\n",
       " [[ 0.81   0.809  2.068]\n",
       "  [ 0.51   0.702  0.624]\n",
       "  [ 0.794  2.492  1.035]\n",
       "  [ 3.846  1.608  3.551]\n",
       "  [ 0.903  2.14  10.449]]\n",
       "\n",
       " [[ 0.66   0.554  0.692]\n",
       "  [ 0.538  0.98   0.819]\n",
       "  [ 1.736  3.589  0.245]\n",
       "  [ 1.478  0.679  0.185]\n",
       "  [ 4.87   0.534  2.396]]\n",
       "\n",
       " [[ 2.474  1.31   2.116]\n",
       "  [ 0.462  1.173  1.558]\n",
       "  [ 0.392  2.467  4.962]\n",
       "  [ 1.161  1.21   0.758]\n",
       "  [ 0.436  1.922  1.214]]],\n",
       "parents=['InputNode'],\n",
       "children=['Mult'])"
      ]
     },
     "execution_count": 25,
     "metadata": {},
     "output_type": "execute_result"
    }
   ],
   "source": [
    "b"
   ]
  },
  {
   "cell_type": "code",
   "execution_count": null,
   "metadata": {},
   "outputs": [],
   "source": [
    "\n",
    "RNN\n",
    "18:31\n",
    "5:40\n",
    "    \n",
    "LSTM\n",
    "58:33\n",
    "5:12"
   ]
  },
  {
   "cell_type": "code",
   "execution_count": null,
   "metadata": {},
   "outputs": [],
   "source": [
    "numba\n",
    "numpy\n",
    "tqdm\n",
    "jupter "
   ]
  }
 ],
 "metadata": {
  "kernelspec": {
   "display_name": "dougnet_dev",
   "language": "python",
   "name": "dougnet_dev"
  },
  "language_info": {
   "codemirror_mode": {
    "name": "ipython",
    "version": 3
   },
   "file_extension": ".py",
   "mimetype": "text/x-python",
   "name": "python",
   "nbconvert_exporter": "python",
   "pygments_lexer": "ipython3",
   "version": "3.8.5"
  }
 },
 "nbformat": 4,
 "nbformat_minor": 4
}
